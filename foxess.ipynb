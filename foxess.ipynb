{
 "cells": [
  {
   "cell_type": "code",
   "execution_count": null,
   "id": "8f7aa1ff-c328-43f2-bb5b-1dff9cf4e880",
   "metadata": {},
   "outputs": [],
   "source": [
    "# Run this cell first to initialise your notebook\n",
    "\n",
    "!pip install random-user-agent --root-user-action=ignore --quiet\n",
    "!pip install foxesscloud --root-user-action=ignore --quiet --upgrade\n",
    "import foxesscloud.foxesscloud as f\n",
    "\n",
    "# add your Fox ESS user and inverter info here\n",
    "f.username = \"my.fox_username\"\n",
    "f.password = \"my.fox_password\"\n",
    "f.device_sn = \"my.fox_device_sn\"\n",
    "\n",
    "# optional, add your PV Output credentials here\n",
    "f.pv_api_key = \"my.pv_api_key\"\n",
    "f.pv_system_id = \"my.pv_system_id\"\n",
    "\n",
    "# optional, add your solcast credentials here\n",
    "#f.solcast_api_key = \"my.solcast_api_key\"\n",
    "\n",
    "# optional forecast.solar settings - add details of your panels here\n",
    "#f.solar_array()\n"
   ]
  },
  {
   "cell_type": "code",
   "execution_count": null,
   "id": "f4c74f25-bd4f-42cf-be48-248dbd917556",
   "metadata": {
    "scrolled": true
   },
   "outputs": [],
   "source": [
    "# Run this cell to work out if your battery needs to be charged from the grid\n",
    "# If you use Solcast, the API is limited to 10 calls and will reject requests after this\n",
    "\n",
    "f.tariff = f.octopus_flux\n",
    "#f.set_agile_period(duration=3, update=1)\n",
    "f.charge_needed(update_settings=0)"
   ]
  },
  {
   "cell_type": "code",
   "execution_count": null,
   "id": "f22985d5-4ace-483e-bdc4-0b64b45df823",
   "metadata": {
    "scrolled": true
   },
   "outputs": [],
   "source": [
    "# Run this cell to generate CSV upload data for pvoutput for a range of dates\n",
    "# Data format matches api document: https://pvoutput.org/help/api_specification.html#csv-data-parameter\n",
    "# select and copy the CSV data and paste this into the PV Output CSV Uploader\n",
    "\n",
    "# set start_date to the first date you want 'YYYY-MM-DD' and set end_date, limit or span\n",
    "# limit is the maximum number of days. The maximum PV Output upload is 200 days\n",
    "# span is one of 'day', 'week', 'month' or 'year'\n",
    "start_date = '2023-09-21'\n",
    "end_date = None\n",
    "limit = 10\n",
    "span = None\n",
    "\n",
    "f.get_pvoutput(d = f.date_list(s=start_date, e=end_date, limit=limit, span=span), tou=0)"
   ]
  },
  {
   "cell_type": "code",
   "execution_count": null,
   "id": "1011f9c9-cd0b-43a3-b5c5-ef9e9cfc3120",
   "metadata": {},
   "outputs": [],
   "source": [
    "# Run this cell to upload data directly to pvoutput.org for a date\n",
    "# span='2days', today=1 uploads data for yesterday and today\n",
    "\n",
    "f.set_pvoutput(d=f.date_list(span='2DAYS', today=1), tou=0)"
   ]
  },
  {
   "cell_type": "code",
   "execution_count": null,
   "id": "6562ab78-3f4b-4cda-9c6e-74dc469bd834",
   "metadata": {},
   "outputs": [],
   "source": []
  }
 ],
 "metadata": {
  "kernelspec": {
   "display_name": "Python 3 (ipykernel)",
   "language": "python",
   "name": "python3"
  },
  "language_info": {
   "codemirror_mode": {
    "name": "ipython",
    "version": 3
   },
   "file_extension": ".py",
   "mimetype": "text/x-python",
   "name": "python",
   "nbconvert_exporter": "python",
   "pygments_lexer": "ipython3",
   "version": "3.9.2"
  }
 },
 "nbformat": 4,
 "nbformat_minor": 5
}
