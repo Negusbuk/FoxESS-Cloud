{
 "cells": [
  {
   "cell_type": "code",
   "execution_count": null,
   "id": "8f7aa1ff-c328-43f2-bb5b-1dff9cf4e880",
   "metadata": {},
   "outputs": [],
   "source": [
    "# Run this cell first to initialise your notebook\n",
    "\n",
    "!pip install foxesscloud --root-user-action=ignore --quiet --upgrade\n",
    "import foxesscloud.foxesscloud as f\n",
    "\n",
    "# add your Fox ESS user and inverter info here\n",
    "f.username = \"my.fox_password\"\n",
    "f.password = \"my.fox_password\"\n",
    "f.device_sn = \"my.fox_device_sn\"\n",
    "f.time_zone = \"Europe/London\"\n"
   ]
  },
  {
   "cell_type": "code",
   "execution_count": null,
   "id": "a445371f",
   "metadata": {},
   "outputs": [],
   "source": [
    "# Run this cell to get information about your battery\n",
    "f.battery_info()"
   ]
  },
  {
   "cell_type": "code",
   "execution_count": null,
   "id": "6562ab78-3f4b-4cda-9c6e-74dc469bd834",
   "metadata": {},
   "outputs": [],
   "source": []
  }
 ],
 "metadata": {
  "kernelspec": {
   "display_name": "Python 3 (ipykernel)",
   "language": "python",
   "name": "python3"
  },
  "language_info": {
   "codemirror_mode": {
    "name": "ipython",
    "version": 3
   },
   "file_extension": ".py",
   "mimetype": "text/x-python",
   "name": "python",
   "nbconvert_exporter": "python",
   "pygments_lexer": "ipython3",
   "version": "3.9.2"
  }
 },
 "nbformat": 4,
 "nbformat_minor": 5
}
