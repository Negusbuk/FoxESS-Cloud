{
 "cells": [
  {
   "cell_type": "code",
   "execution_count": null,
   "id": "8f7aa1ff-c328-43f2-bb5b-1dff9cf4e880",
   "metadata": {},
   "outputs": [],
   "source": [
    "# Run this cell first to initialise your notebook\n",
    "\n",
    "!pip install foxesscloud --root-user-action=ignore --quiet --upgrade\n",
    "import foxesscloud.openapi as f\n",
    "\n",
    "# add your Fox ESS Open API key and inverter info here\n",
    "f.api_key = \"my.api_key\"\n",
    "f.device_sn = \"my.fox_device_sn\"\n",
    "f.time_zone = \"Europe/London\"\n",
    "\n",
    "# optional, add your PV Output credentials here\n",
    "f.pv_api_key = \"my.pv_api_key\"\n",
    "f.pv_system_id = \"my.pv_system_id\"\n",
    "\n",
    "# optional, add your solcast credentials here\n",
    "#f.solcast_api_key = \"my.solcast_api_key\"\n",
    "\n",
    "# set to 1 when residual returns battery energy, 2 when residual returns battery capacity\n",
    "f.residual_handling = 1"
   ]
  },
  {
   "cell_type": "code",
   "execution_count": null,
   "id": "a445371f",
   "metadata": {},
   "outputs": [],
   "source": [
    "# Run this cell to set your tariff and update the AM charging period for Agile Octopus\n",
    "# Tariffs: Octopus Flux, Intelligent Octopus, Octopus Cosy, Octopus Go, Agile Octopus, British Gas Electric Driver\n",
    "# Regions (for Agile): A, B, C, D, E, F, G, H, J, K, L, M, N, P (see README.MD)\n",
    "# Weightings (for Agile): None, f.front_loaded, f.first_hour\n",
    "# duration is the charge time in hours\n",
    "\n",
    "f.set_tariff('agile', region='H', weighting=None, update=0, duration=3)"
   ]
  },
  {
   "cell_type": "code",
   "execution_count": null,
   "id": "f4c74f25-bd4f-42cf-be48-248dbd917556",
   "metadata": {
    "scrolled": true
   },
   "outputs": [],
   "source": [
    "# Run this cell to work out if your battery needs to be charged from the grid\n",
    "# If you use Solcast, the API is limited to 10 calls and will reject requests after this\n",
    "\n",
    "f.charge_needed(update_settings=0)"
   ]
  },
  {
   "cell_type": "code",
   "execution_count": null,
   "id": "1011f9c9-cd0b-43a3-b5c5-ef9e9cfc3120",
   "metadata": {},
   "outputs": [],
   "source": [
    "# Run this cell to upload data directly to pvoutput.org for a date\n",
    "# span='2days', today=1 uploads data for yesterday and today\n",
    "\n",
    "f.set_pvoutput(d=f.date_list(span='2DAYS', today=1))"
   ]
  },
  {
   "cell_type": "code",
   "execution_count": null,
   "id": "6562ab78-3f4b-4cda-9c6e-74dc469bd834",
   "metadata": {},
   "outputs": [],
   "source": []
  }
 ],
 "metadata": {
  "kernelspec": {
   "display_name": "Python 3 (ipykernel)",
   "language": "python",
   "name": "python3"
  },
  "language_info": {
   "codemirror_mode": {
    "name": "ipython",
    "version": 3
   },
   "file_extension": ".py",
   "mimetype": "text/x-python",
   "name": "python",
   "nbconvert_exporter": "python",
   "pygments_lexer": "ipython3",
   "version": "3.9.2"
  }
 },
 "nbformat": 4,
 "nbformat_minor": 5
}
