{
 "cells": [
  {
   "cell_type": "code",
   "execution_count": null,
   "id": "8f7aa1ff-c328-43f2-bb5b-1dff9cf4e880",
   "metadata": {},
   "outputs": [],
   "source": [
    "# Run this cell first to initialise your notebook\n",
    "\n",
    "!pip install foxesscloud --root-user-action=ignore --quiet --upgrade\n",
    "import foxesscloud.openapi as f\n",
    "\n",
    "# add your Fox ESS Open API key and inverter info here\n",
    "f.api_key = \"my.fox_api_key\"\n",
    "f.device_sn = \"my.fox_device_sn\"\n",
    "f.time_zone = \"Europe/London\"\n",
    "\n",
    "# optional, add your PV Output credentials here\n",
    "f.pv_api_key = \"my.pv_api_key\"\n",
    "f.pv_system_id = \"my.pv_system_id\"\n",
    "\n",
    "# set to 1 when residual returns battery energy, 2 when residual returns battery capacity\n",
    "f.residual_handling = 1"
   ]
  },
  {
   "cell_type": "code",
   "execution_count": null,
   "id": "f9b38b7f-1bca-4c13-b134-ced3fad70226",
   "metadata": {},
   "outputs": [],
   "source": [
    "# Run this cell to set your tariff and update the AM charging period for Agile Octopus\n",
    "# Tariffs: octopus_flux, intelligent_octopus, octopus_cosy, octopus_go, agile_octopus, bg_driver\n",
    "# Regions: A, B, C, D, E, F, G, H, J, K, L, M, N, P (see README.MD)\n",
    "\n",
    "f.set_tariff('agile', region='H')"
   ]
  },
  {
   "cell_type": "code",
   "execution_count": null,
   "id": "86a242fe-eeb1-456e-897c-ba6c95d162e6",
   "metadata": {},
   "outputs": [],
   "source": [
    "# Run this cell to generate CSV upload data for pvoutput for a range of dates\n",
    "# Data format matches api document: https://pvoutput.org/help/api_specification.html#csv-data-parameter\n",
    "# select and copy the CSV data and paste this into the PV Output CSV Uploader\n",
    "\n",
    "# set start_date to the first date you want 'YYYY-MM-DD' and set end_date, limit or span\n",
    "# limit is the maximum number of days. The maximum PV Output upload is 200 days\n",
    "# span is one of 'day', 'week', 'month' or 'year'\n",
    "start_date = '2023-09-21'\n",
    "end_date = None\n",
    "limit = 10\n",
    "span = None\n",
    "\n",
    "f.get_pvoutput(d = f.date_list(s=start_date, e=end_date, limit=limit, span=span), tou=1)"
   ]
  },
  {
   "cell_type": "code",
   "execution_count": null,
   "id": "1011f9c9-cd0b-43a3-b5c5-ef9e9cfc3120",
   "metadata": {},
   "outputs": [],
   "source": [
    "# Run this cell to upload data directly to pvoutput.org for a date\n",
    "# span='2days', today=1 uploads data for yesterday and today\n",
    "\n",
    "f.set_pvoutput(d=f.date_list(span='2DAYS', today=1), tou=1)"
   ]
  },
  {
   "cell_type": "code",
   "execution_count": null,
   "id": "6562ab78-3f4b-4cda-9c6e-74dc469bd834",
   "metadata": {},
   "outputs": [],
   "source": []
  }
 ],
 "metadata": {
  "kernelspec": {
   "display_name": "Python 3 (ipykernel)",
   "language": "python",
   "name": "python3"
  },
  "language_info": {
   "codemirror_mode": {
    "name": "ipython",
    "version": 3
   },
   "file_extension": ".py",
   "mimetype": "text/x-python",
   "name": "python",
   "nbconvert_exporter": "python",
   "pygments_lexer": "ipython3",
   "version": "3.11.2"
  }
 },
 "nbformat": 4,
 "nbformat_minor": 5
}
