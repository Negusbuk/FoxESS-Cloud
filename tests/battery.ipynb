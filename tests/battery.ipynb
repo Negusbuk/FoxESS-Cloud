{
 "cells": [
  {
   "cell_type": "code",
   "execution_count": null,
   "id": "a6cda54b-1737-4def-9e2f-c2dd5ecc7b75",
   "metadata": {},
   "outputs": [],
   "source": [
    "# setup for testing\n",
    "import foxesscloud as f\n",
    "import private as my\n",
    "import json\n",
    "\n",
    "f.username = my.fox_username\n",
    "f.password = my.fox_password\n",
    "#f.device_sn = my.fox_device_sn\n",
    "f.time_zone = \"Europe/London\"\n",
    "# set to 1 when residual returns battery energy, 2 when residual returns battery capacity\n",
    "f.residual_handling = 2\n",
    "\n",
    "f.plot_file = \"battery###.png\"\n",
    "#f.pushover_user_key = my.pushover_user_key\n",
    "f.debug_setting = 1\n"
   ]
  },
  {
   "cell_type": "code",
   "execution_count": null,
   "id": "4bc4c7b6-cd67-4a49-adb0-1a2f9a0ab007",
   "metadata": {},
   "outputs": [],
   "source": [
    "f.debug_setting=1\n",
    "f.battery_info(plot=1)"
   ]
  },
  {
   "cell_type": "code",
   "execution_count": null,
   "id": "76276e40-2656-4f8e-9bce-b05440e09a41",
   "metadata": {},
   "outputs": [],
   "source": [
    "#f.battery_monitor(log=2,save='battery.csv')"
   ]
  },
  {
   "cell_type": "code",
   "execution_count": null,
   "id": "1715d571-0d27-488d-9161-42b1b0021baa",
   "metadata": {},
   "outputs": [],
   "source": []
  }
 ],
 "metadata": {
  "kernelspec": {
   "display_name": "Python 3 (ipykernel)",
   "language": "python",
   "name": "python3"
  },
  "language_info": {
   "codemirror_mode": {
    "name": "ipython",
    "version": 3
   },
   "file_extension": ".py",
   "mimetype": "text/x-python",
   "name": "python",
   "nbconvert_exporter": "python",
   "pygments_lexer": "ipython3",
   "version": "3.11.2"
  }
 },
 "nbformat": 4,
 "nbformat_minor": 5
}
