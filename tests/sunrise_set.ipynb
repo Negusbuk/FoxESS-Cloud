{
 "cells": [
  {
   "cell_type": "code",
   "execution_count": null,
   "id": "a610d3d7-4f90-4a89-8458-8faf1a07f841",
   "metadata": {},
   "outputs": [],
   "source": [
    "!pip install suntime --root-user-action=ignore --quiet --upgrade\n",
    "\n",
    "from datetime import datetime, timedelta, timezone\n",
    "from suntime import Sun\n",
    "\n",
    "location = (51.5477, -1.7354)\n",
    "\n",
    "def sunrise_set(date):\n",
    "    global location\n",
    "    sun = Sun(location[0], location[1])\n",
    "    if type(date) is list:\n",
    "        result = []\n",
    "        for d in date:\n",
    "            result.append(sunrise_set(d))\n",
    "        return result\n",
    "    dt = datetime.strptime(date, '%Y-%m-%d')\n",
    "    sunrise = datetime.strftime(sun.get_sunrise_time(dt), '%H:%M')\n",
    "    sunset = datetime.strftime(sun.get_sunset_time(dt), '%H:%M')\n",
    "    return (sunrise, sunset)"
   ]
  },
  {
   "cell_type": "code",
   "execution_count": null,
   "id": "24c27c33-e55a-4aff-b522-2bee607809b0",
   "metadata": {},
   "outputs": [],
   "source": [
    "dates = [f\"2024-{m:02d}-01\" for m in range(1, 13)]\n",
    "print(dates)\n",
    "sunrise_set(dates)"
   ]
  },
  {
   "cell_type": "code",
   "execution_count": null,
   "id": "08410afb-3617-4095-b9ec-120529bfa81f",
   "metadata": {},
   "outputs": [],
   "source": []
  }
 ],
 "metadata": {
  "kernelspec": {
   "display_name": "Python 3 (ipykernel)",
   "language": "python",
   "name": "python3"
  },
  "language_info": {
   "codemirror_mode": {
    "name": "ipython",
    "version": 3
   },
   "file_extension": ".py",
   "mimetype": "text/x-python",
   "name": "python",
   "nbconvert_exporter": "python",
   "pygments_lexer": "ipython3",
   "version": "3.11.2"
  }
 },
 "nbformat": 4,
 "nbformat_minor": 5
}
