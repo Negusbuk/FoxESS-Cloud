{
 "cells": [
  {
   "cell_type": "code",
   "execution_count": 1,
   "id": "8f7aa1ff-c328-43f2-bb5b-1dff9cf4e880",
   "metadata": {},
   "outputs": [
    {
     "name": "stdout",
     "output_type": "stream",
     "text": [
      "FoxESS-Cloud Open API version 2.1.9\n"
     ]
    }
   ],
   "source": [
    "# Run this cell first to initialise your notebook\n",
    "\n",
    "#!pip install foxesscloud --root-user-action=ignore --quiet --upgrade\n",
    "import openapi as f\n",
    "import private as my\n",
    "import datetime\n",
    "\n",
    "# add your Fox ESS user and inverter info here\n",
    "f.api_key = my.fox_api_key\n",
    "f.device_sn = my.fox_device_sn\n",
    "f.time_zone = my.time_zone\n",
    "\n",
    "# pvoutput.org settings\n",
    "f.pv_api_key = my.pv_api_key\n",
    "f.pv_system_id = my.pv_system_id\n",
    "\n",
    "# Optional Solcast settings\n",
    "f.solcast_api_key = my.solcast_api_key\n",
    "\n",
    "# Optional forecast.solar settings\n",
    "f.solar_array('East', lat=51.5478, lon=-1.7354, dec=30, az=260, kwp=3.2, inv=3.6)\n",
    "f.solar_array('West', lat=51.5478, lon=-1.7354, dec=30, az=80, kwp=3.2, inv=3.6)\n",
    "\n",
    "f.plot_file=\"plot###.png\"\n",
    "f.pushover_user_key = my.pushover_user_key\n",
    "f.debug_setting=1"
   ]
  },
  {
   "cell_type": "code",
   "execution_count": 2,
   "id": "40042514-c7f6-4aae-8d89-f5860bb497b7",
   "metadata": {
    "slideshow": {
     "slide_type": ""
    },
    "tags": []
   },
   "outputs": [
    {
     "name": "stdout",
     "output_type": "stream",
     "text": [
      "\n",
      "---------------- set_tariff -----------------\n",
      "\n",
      "Eco 7 AM charging period: 00:30 to 07:30 GMT\n",
      "\n",
      "Tariff set to Eco 7\n",
      "\n",
      "---------------- set_tariff -----------------\n",
      "\n",
      "Product: AGILE-FLEX-22-11-25\n",
      "Region:  Southern England\n",
      "\n",
      "Prices for 2024-04-02 (p/kWh inc VAT):\n",
      "                                                              23:00 = 14.33  23:30 = 12.13\n",
      "  00:00 = 11.91  00:30 = 11.91  01:00 = 11.69  01:30 = 11.91  02:00 = 12.26  02:30 = 11.69\n",
      "  03:00 = 11.84  03:30 = 11.69  04:00 = 12.13  04:30 = 11.69  05:00 = 11.77  05:30 = 12.95\n",
      "  06:00 = 14.33  06:30 = 13.93  07:00 = 14.05  07:30 = 16.18  08:00 = 18.74  08:30 = 18.74\n",
      "  09:00 = 18.74  09:30 = 16.98  10:00 = 16.62  10:30 = 16.23  11:00 = 15.74  11:30 = 15.74\n",
      "  12:00 = 15.88  12:30 = 15.66  13:00 = 15.39  13:30 = 14.47  14:00 = 14.55  14:30 = 14.15\n",
      "  15:00 = 15.44  15:30 = 15.57  16:00 = 26.58  16:30 = 28.63  17:00 = 28.92  17:30 = 30.38\n",
      "  18:00 = 32.22  18:30 = 30.06  19:00 = 19.05  19:30 = 18.08  20:00 = 16.67  20:30 = 15.39\n",
      "  21:00 = 14.11  21:30 = 14.12  22:00 = 13.47  22:30 = 11.69\n",
      "\n",
      "Best 3 hour AM charging period for Agile Octopus between 23:00 and 08:00:\n",
      "  Price: 11.80 p/kWh inc VAT\n",
      "  Charging period: 02:30 to 05:30\n",
      "\n",
      "Product: AGILE-FLEX-22-11-25\n",
      "Region:  Southern England\n",
      "\n",
      "Prices for 2024-04-02 (p/kWh inc VAT):\n",
      "                                                              23:00 = 14.33  23:30 = 12.13\n",
      "  00:00 = 11.91  00:30 = 11.91  01:00 = 11.69  01:30 = 11.91  02:00 = 12.26  02:30 = 11.69\n",
      "  03:00 = 11.84  03:30 = 11.69  04:00 = 12.13  04:30 = 11.69  05:00 = 11.77  05:30 = 12.95\n",
      "  06:00 = 14.33  06:30 = 13.93  07:00 = 14.05  07:30 = 16.18  08:00 = 18.74  08:30 = 18.74\n",
      "  09:00 = 18.74  09:30 = 16.98  10:00 = 16.62  10:30 = 16.23  11:00 = 15.74  11:30 = 15.74\n",
      "  12:00 = 15.88  12:30 = 15.66  13:00 = 15.39  13:30 = 14.47  14:00 = 14.55  14:30 = 14.15\n",
      "  15:00 = 15.44  15:30 = 15.57  16:00 = 26.58  16:30 = 28.63  17:00 = 28.92  17:30 = 30.38\n",
      "  18:00 = 32.22  18:30 = 30.06  19:00 = 19.05  19:30 = 18.08  20:00 = 16.67  20:30 = 15.39\n",
      "  21:00 = 14.11  21:30 = 14.12  22:00 = 13.47  22:30 = 11.69\n",
      "\n",
      "Best 1 hour PM charging period for Agile Octopus between 12:00 and 16:00:\n",
      "  Price: 14.35 p/kWh inc VAT\n",
      "  Charging period: 14:00 to 15:00\n",
      "\n",
      "Forecast times set to ['11:00', '22:00', '23:00']\n",
      "\n",
      "Tariff set to Agile Octopus\n",
      "\n",
      "---------------- set_tariff -----------------\n",
      "\n",
      "Octopus Flux PM charging period: 00:00 to 00:00\n",
      "\n",
      "Forecast times set to ['22:00', '23:00']\n",
      "\n",
      "Tariff set to Octopus Flux\n"
     ]
    }
   ],
   "source": [
    "# Run this cell to set your tariff and update the AM charging period for Agile Octopus\n",
    "# Tariffs: octopus_flux, intelligent_octopus, octopus_cosy, octopus_go, agile_octopus, bg_driver\n",
    "# Regions: A, B, C, D, E, F, G, H, J, K, L, M, N, P (see README.MD)\n",
    "# Weighting: f.front_loaded, f.first_hour, None\n",
    "\n",
    "f.set_tariff('eco', update=1)\n",
    "f.set_tariff('agile', update=1, times=[('23:00','08:00', 3), ('12:00', '16:00', 1)], forecast_times=[11,22,23])\n",
    "f.set_tariff('flux', start_at=15, end_by=16, duration=0, forecast_times=[22,23])"
   ]
  },
  {
   "cell_type": "code",
   "execution_count": null,
   "id": "259a7240-2661-49a9-8e3a-263b408652c3",
   "metadata": {
    "slideshow": {
     "slide_type": ""
    },
    "tags": []
   },
   "outputs": [],
   "source": [
    "# Run this cell to work out if your battery needs to be charged from the grid\n",
    "# If you use Solcast or forecast.solar, the APIs are limited to 10 calls and will reject requests after this\n",
    "\n",
    "#f.charge_needed(update_settings=0, forecast_selection=0, test_soc=10, annual_consumption=2200, show_data=3, charge_current=35, forecast=6, test_time='2023-10-29 17:00')\n",
    "f.charge_needed(update_settings=1, charge_current=25, run_after=0, force_charge=0) #, test_time='2024-01-23 17:00', forecast=4)"
   ]
  },
  {
   "cell_type": "code",
   "execution_count": 4,
   "id": "b7f92ffc-b076-4fbd-b24e-e54506109677",
   "metadata": {
    "editable": true,
    "slideshow": {
     "slide_type": ""
    },
    "tags": []
   },
   "outputs": [
    {
     "name": "stdout",
     "output_type": "stream",
     "text": [
      "---------------- get_pvoutput ------------------\n",
      "Date range 2024-03-31 to 2024-03-31 has 1 days\n",
      "Time of use: Octopus Flux\n",
      "------------------------------------------------\n",
      "20240331,9982,,2950,16:00,,,,,31,1583,3184,0,18199,3,23,72,0\n"
     ]
    }
   ],
   "source": [
    "# Run this cell to generate CSV upload data for pvoutput for a range of dates\n",
    "# Data format matches api document: https://pvoutput.org/help/api_specification.html#csv-data-parameter\n",
    "# select and copy the CSV data and paste this into the PV Output CSV Uploader\n",
    "\n",
    "# set start_date to the first date you want 'YYYY-MM-DD' and set end_date, limit or span\n",
    "# limit is the maximum number of days. The maximum PV Output upload is 200 days\n",
    "# span is one of 'day', 'week', 'month' or 'year'\n",
    "start_date = '2024-03-31'\n",
    "end_date = None\n",
    "limit = 10\n",
    "span = None\n",
    "\n",
    "f.get_pvoutput(d = f.date_list(s=start_date, e=end_date, limit=limit, span=span),tou=1)"
   ]
  },
  {
   "cell_type": "code",
   "execution_count": 5,
   "id": "1011f9c9-cd0b-43a3-b5c5-ef9e9cfc3120",
   "metadata": {},
   "outputs": [
    {
     "name": "stdout",
     "output_type": "stream",
     "text": [
      "\n",
      "------------ set_pvoutput (100536) -------------\n",
      "Date range 2024-03-31 to 2024-04-01 has 2 days\n",
      "Time of use: Octopus Flux\n",
      "------------------------------------------------\n",
      "20240331,9982,,2950,16:00,,,,,31,1583,3184,0,18199,3,23,72,0  # uploaded OK\n",
      "20240401,16870,,4922,13:10,,,,,35,7106,1357,0,13800,166,0,32,0  # uploaded OK\n"
     ]
    }
   ],
   "source": [
    "# Run this cell to upload data directly to pvoutput.org for a date\n",
    "# span='2days', today=True uploads data for yesterday and today\n",
    "#f.set_pvoutput(d=f.date_list(span=\"2days\", today=True), tou=0)\n",
    "f.set_pvoutput(tou=1, push=1)"
   ]
  },
  {
   "cell_type": "code",
   "execution_count": 6,
   "id": "6562ab78-3f4b-4cda-9c6e-74dc469bd834",
   "metadata": {},
   "outputs": [
    {
     "name": "stdout",
     "output_type": "stream",
     "text": [
      "---------------- get_pvoutput ------------------\n",
      "Date range 2024-03-30 to 2024-03-31 has 2 days\n",
      "Time of use: Octopus Flux\n",
      "------------------------------------------------\n",
      "20240330,23820,,5020,11:25,,,,,1,2279,318,0,17000,1457,6,4835,0\n",
      "20240331,9982,,2950,16:00,,,,,31,1583,3184,0,18199,3,23,72,0\n"
     ]
    }
   ],
   "source": [
    "f.get_pvoutput(d=f.date_list(span='2DAYS', today=0), tou=1)\n",
    "#f.get_pvoutput(d=f.date_list(span='2DAYS', today=0), tou=0)"
   ]
  },
  {
   "cell_type": "code",
   "execution_count": 7,
   "id": "8134eca4-ccf3-4ddf-b682-5726f9165cca",
   "metadata": {},
   "outputs": [
    {
     "data": {
      "text/plain": [
       "{'total': '1440', 'remaining': '968'}"
      ]
     },
     "execution_count": 7,
     "metadata": {},
     "output_type": "execute_result"
    }
   ],
   "source": [
    "f.get_access_count()"
   ]
  },
  {
   "cell_type": "code",
   "execution_count": null,
   "id": "f7055a2c-05ac-4361-a35f-660d474b8161",
   "metadata": {},
   "outputs": [],
   "source": []
  }
 ],
 "metadata": {
  "kernelspec": {
   "display_name": "Python 3 (ipykernel)",
   "language": "python",
   "name": "python3"
  },
  "language_info": {
   "codemirror_mode": {
    "name": "ipython",
    "version": 3
   },
   "file_extension": ".py",
   "mimetype": "text/x-python",
   "name": "python",
   "nbconvert_exporter": "python",
   "pygments_lexer": "ipython3",
   "version": "3.11.2"
  }
 },
 "nbformat": 4,
 "nbformat_minor": 5
}
