{
 "cells": [
  {
   "cell_type": "code",
   "execution_count": null,
   "id": "8f7aa1ff-c328-43f2-bb5b-1dff9cf4e880",
   "metadata": {},
   "outputs": [],
   "source": [
    "# Run this cell first to initialise your notebook\n",
    "\n",
    "#!pip install foxesscloud --root-user-action=ignore --quiet --upgrade\n",
    "import openapi as f\n",
    "import private as my\n",
    "import datetime\n",
    "\n",
    "# add your Fox ESS user and inverter info here\n",
    "f.api_key = my.fox_api_key\n",
    "f.device_sn = my.fox_device_sn\n",
    "f.time_zone = my.time_zone\n",
    "# set to 1 when Residual Energy is returned, 2 when Residual Capacity is returned\n",
    "f.residual_handling = 2\n",
    "\n",
    "# pvoutput.org settings\n",
    "f.pv_api_key = my.pv_api_key\n",
    "f.pv_system_id = my.pv_system_id\n",
    "\n",
    "# Optional Solcast settings\n",
    "f.solcast_api_key = my.solcast_api_key\n",
    "\n",
    "# Optional forecast.solar settings\n",
    "f.solar_array('East', lat=51.5478, lon=-1.7354, dec=30, az=260, kwp=3.2, inv=3.6)\n",
    "f.solar_array('West', lat=51.5478, lon=-1.7354, dec=30, az=80, kwp=3.2, inv=3.6)\n",
    "\n",
    "#f.plot_file=\"plot###.png\"\n",
    "#f.pushover_user_key = my.pushover_user_key\n",
    "f.debug_setting=1\n"
   ]
  },
  {
   "cell_type": "code",
   "execution_count": null,
   "id": "40042514-c7f6-4aae-8d89-f5860bb497b7",
   "metadata": {
    "slideshow": {
     "slide_type": ""
    },
    "tags": []
   },
   "outputs": [],
   "source": [
    "# Run this cell to set your tariff and update the AM charging period for Agile Octopus\n",
    "# Tariffs: octopus_flux, intelligent_octopus, octopus_cosy, octopus_go, agile_octopus, bg_driver\n",
    "# Regions: A, B, C, D, E, F, G, H, J, K, L, M, N, P (see README.MD)\n",
    "# Weighting: f.front_loaded, f.first_hour, None\n",
    "\n",
    "f.set_tariff('agile') #, d='2024-10-08 21:03')\n",
    "#f.set_tariff('go')"
   ]
  },
  {
   "cell_type": "code",
   "execution_count": null,
   "id": "259a7240-2661-49a9-8e3a-263b408652c3",
   "metadata": {
    "slideshow": {
     "slide_type": ""
    },
    "tags": []
   },
   "outputs": [],
   "source": [
    "# Run this cell to work out if your battery needs to be charged from the grid\n",
    "# If you use Solcast or forecast.solar, the APIs are limited to 10 calls and will reject requests after this\n",
    "\n",
    "#f.charge_needed(update_settings=0, charge_current=25, run_after=0, reload=0, force_charge=0, timed_mode=2) #, test_time='2024-10-08 21:03', test_soc=12)\n",
    "f.charge_needed(update_settings=0, run_after=0, reload=0, force_charge=1, timed_mode=2)"
   ]
  },
  {
   "cell_type": "code",
   "execution_count": null,
   "id": "b7f92ffc-b076-4fbd-b24e-e54506109677",
   "metadata": {
    "editable": true,
    "slideshow": {
     "slide_type": ""
    },
    "tags": []
   },
   "outputs": [],
   "source": [
    "# Run this cell to generate CSV upload data for pvoutput for a range of dates\n",
    "# Data format matches api document: https://pvoutput.org/help/api_specification.html#csv-data-parameter\n",
    "# select and copy the CSV data and paste this into the PV Output CSV Uploader\n",
    "\n",
    "# set start_date to the first date you want 'YYYY-MM-DD' and set end_date, limit or span\n",
    "# limit is the maximum number of days. The maximum PV Output upload is 200 days\n",
    "# span is one of 'day', 'week', 'month' or 'year'\n",
    "start_date = '2024-03-31'\n",
    "end_date = None\n",
    "limit = 10\n",
    "span = None\n",
    "\n",
    "f.get_pvoutput(d = f.date_list(s=start_date, e=end_date, limit=limit, span=span),tou=1)"
   ]
  },
  {
   "cell_type": "code",
   "execution_count": null,
   "id": "1011f9c9-cd0b-43a3-b5c5-ef9e9cfc3120",
   "metadata": {},
   "outputs": [],
   "source": [
    "# Run this cell to upload data directly to pvoutput.org for a date\n",
    "# span='2days', today=True uploads data for yesterday and today\n",
    "#f.set_pvoutput(d=f.date_list(span=\"2days\", today=True), tou=0)\n",
    "f.set_pvoutput(tou=1, push=0, run_after=17)"
   ]
  },
  {
   "cell_type": "code",
   "execution_count": null,
   "id": "6562ab78-3f4b-4cda-9c6e-74dc469bd834",
   "metadata": {},
   "outputs": [],
   "source": [
    "f.get_pvoutput(d=f.date_list(span='2DAYS', today=0), tou=1)\n",
    "#f.get_pvoutput(d=f.date_list(span='2DAYS', today=0), tou=0)"
   ]
  },
  {
   "cell_type": "code",
   "execution_count": null,
   "id": "7a9405e0-da07-4465-a660-6152a7ff5edb",
   "metadata": {},
   "outputs": [],
   "source": [
    "f.battery"
   ]
  },
  {
   "cell_type": "code",
   "execution_count": null,
   "id": "419b95b0-b708-4c9f-9512-03c6d7c91aec",
   "metadata": {},
   "outputs": [],
   "source": []
  }
 ],
 "metadata": {
  "kernelspec": {
   "display_name": "Python 3 (ipykernel)",
   "language": "python",
   "name": "python3"
  },
  "language_info": {
   "codemirror_mode": {
    "name": "ipython",
    "version": 3
   },
   "file_extension": ".py",
   "mimetype": "text/x-python",
   "name": "python",
   "nbconvert_exporter": "python",
   "pygments_lexer": "ipython3",
   "version": "3.11.2"
  }
 },
 "nbformat": 4,
 "nbformat_minor": 5
}
