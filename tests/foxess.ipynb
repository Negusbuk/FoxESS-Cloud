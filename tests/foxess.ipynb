{
 "cells": [
  {
   "cell_type": "code",
   "execution_count": null,
   "id": "8f7aa1ff-c328-43f2-bb5b-1dff9cf4e880",
   "metadata": {},
   "outputs": [],
   "source": [
    "# Run this cell first to initialise your notebook\n",
    "\n",
    "#!pip install foxesscloud --root-user-action=ignore --quiet --upgrade\n",
    "import foxesscloud as f\n",
    "import private as my\n",
    "import datetime\n",
    "\n",
    "# add your Fox ESS user and inverter info here\n",
    "f.username = my.fox_username\n",
    "f.password = my.fox_password\n",
    "f.device_sn = my.fox_device_sn\n",
    "f.time_zone = my.time_zone\n",
    "# set to 1 when residual returns battery energy, 2 when residual returns battery capacity\n",
    "f.residual_handling = 2\n",
    "\n",
    "# pvoutput.org settings\n",
    "f.pv_api_key = my.pv_api_key\n",
    "f.pv_system_id = my.pv_system_id\n",
    "\n",
    "# Optional Solcast settings\n",
    "f.solcast_api_key = my.solcast_api_key\n",
    "\n",
    "# Optional forecast.solar settings\n",
    "f.solar_array('East', lat=51.5478, lon=-1.7354, dec=30, az=260, kwp=3.2, inv=3.6)\n",
    "f.solar_array('West', lat=51.5478, lon=-1.7354, dec=30, az=80, kwp=3.2, inv=3.6)\n"
   ]
  },
  {
   "cell_type": "code",
   "execution_count": null,
   "id": "d7ea198c-f0e4-4a15-9706-5e8f407ee388",
   "metadata": {
    "slideshow": {
     "slide_type": ""
    },
    "tags": []
   },
   "outputs": [],
   "source": [
    "# Run this cell to set your tariff and update the AM charging period for Agile Octopus\n",
    "# Tariffs: octopus_flux, intelligent_octopus, octopus_cosy, octopus_go, agile_octopus, bg_driver\n",
    "# Regions: A, B, C, D, E, F, G, H, J, K, L, M, N, P (see README.MD)\n",
    "# Weighting: f.front_loaded, f.first_hour, None\n",
    "f.set_tariff('agile', update=1, times=[('23:00','08:00', 2), ('08:00', '16:00', 1)], forecast_times=['11:00','22:00','23:00'])\n",
    "#f.set_tariff('intelligent')\n",
    "f.set_tariff('flux', start_at=2, end_by=5, forecast_times=[22,23], strategy='load')"
   ]
  },
  {
   "cell_type": "code",
   "execution_count": null,
   "id": "5e231129-707d-4118-9560-fc168d722593",
   "metadata": {
    "slideshow": {
     "slide_type": ""
    },
    "tags": []
   },
   "outputs": [],
   "source": [
    "# Run this cell to work out if your battery needs to be charged from the grid\n",
    "# If you use Solcast or forecast.solar, the APIs are limited to 10 calls and will reject requests after this\n",
    "\n",
    "#f.charge_needed(update_settings=0, forecast_selection=0, test_soc=10, annual_consumption=2200, show_data=3, charge_current=35, forecast=6, test_time='2023-10-29 17:00')\n",
    "f.charge_needed(update_settings=1, charge_current=25, run_after=0, force_charge=0, timed_mode=2) #, test_time='2024-01-23 11:00')"
   ]
  },
  {
   "cell_type": "code",
   "execution_count": null,
   "id": "5eebff07-7075-41ae-88da-c17dc0f617a6",
   "metadata": {},
   "outputs": [],
   "source": [
    "# Run this cell to generate CSV upload data for pvoutput for a range of dates\n",
    "# Data format matches api document: https://pvoutput.org/help/api_specification.html#csv-data-parameter\n",
    "# select and copy the CSV data and paste this into the PV Output CSV Uploader\n",
    "\n",
    "# set start_date to the first date you want 'YYYY-MM-DD' and set end_date, limit or span\n",
    "# limit is the maximum number of days. The maximum PV Output upload is 200 days\n",
    "# span is one of 'day', 'week', 'month' or 'year'\n",
    "start_date = '2024-03-31'\n",
    "end_date = None\n",
    "limit = 10\n",
    "span = None\n",
    "\n",
    "f.get_pvoutput(d = f.date_list(s=start_date, e=end_date, limit=limit, span=span),tou=1)"
   ]
  },
  {
   "cell_type": "code",
   "execution_count": null,
   "id": "48abc680-aa79-4eee-9e1d-b930f4badaf0",
   "metadata": {},
   "outputs": [],
   "source": [
    "f.integrate_load_power = 1\n",
    "f.get_pvoutput(d = f.date_list(s=start_date, e=end_date, limit=limit, span=span, today=1), tou=1)"
   ]
  },
  {
   "cell_type": "code",
   "execution_count": null,
   "id": "3132482e-6ee3-450a-ae60-92403ded5a92",
   "metadata": {},
   "outputs": [],
   "source": [
    "# Run this cell to upload data directly to pvoutput.org for a date\n",
    "# span='2days', today=True uploads data for yesterday and today\n",
    "f.set_pvoutput(d=f.date_list(span='2DAYS', today=True), tou=1)"
   ]
  },
  {
   "cell_type": "code",
   "execution_count": null,
   "id": "b17a152e-993e-4f58-a8a3-3477f6b75732",
   "metadata": {},
   "outputs": [],
   "source": []
  }
 ],
 "metadata": {
  "kernelspec": {
   "display_name": "Python 3 (ipykernel)",
   "language": "python",
   "name": "python3"
  },
  "language_info": {
   "codemirror_mode": {
    "name": "ipython",
    "version": 3
   },
   "file_extension": ".py",
   "mimetype": "text/x-python",
   "name": "python",
   "nbconvert_exporter": "python",
   "pygments_lexer": "ipython3",
   "version": "3.11.2"
  }
 },
 "nbformat": 4,
 "nbformat_minor": 5
}
