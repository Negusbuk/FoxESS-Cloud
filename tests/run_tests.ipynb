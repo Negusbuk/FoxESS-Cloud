{
 "cells": [
  {
   "cell_type": "code",
   "execution_count": null,
   "metadata": {
    "editable": true,
    "slideshow": {
     "slide_type": ""
    },
    "tags": []
   },
   "outputs": [],
   "source": [
    "# setup for testing\n",
    "import foxesscloud as f\n",
    "import private as my\n",
    "import json\n",
    "\n",
    "f.username = my.fox_username\n",
    "f.password = my.fox_password\n",
    "f.device_sn = my.fox_device_sn\n",
    "f.time_zone = \"Europe/London\"\n",
    "\n",
    "f.debug_setting = 1"
   ]
  },
  {
   "cell_type": "code",
   "execution_count": null,
   "metadata": {},
   "outputs": [],
   "source": [
    "f.get_info()"
   ]
  },
  {
   "cell_type": "code",
   "execution_count": null,
   "metadata": {},
   "outputs": [],
   "source": [
    "f.messages['en']['0']"
   ]
  },
  {
   "cell_type": "code",
   "execution_count": null,
   "metadata": {},
   "outputs": [],
   "source": [
    "f.get_status()"
   ]
  },
  {
   "cell_type": "code",
   "execution_count": null,
   "metadata": {},
   "outputs": [],
   "source": [
    "f.get_status(station=1)"
   ]
  },
  {
   "cell_type": "code",
   "execution_count": null,
   "metadata": {},
   "outputs": [],
   "source": [
    "f.get_site()"
   ]
  },
  {
   "cell_type": "code",
   "execution_count": null,
   "metadata": {},
   "outputs": [],
   "source": [
    "f.get_logger()"
   ]
  },
  {
   "cell_type": "code",
   "execution_count": null,
   "metadata": {},
   "outputs": [],
   "source": [
    "result = f.get_device()\n",
    "print(json.dumps(result, indent=2))\n",
    "print(f\"generationToday = {result['generationToday']} kWh\")\n",
    "print(f\"generationTotal = {result['generationTotal']} kWh\")\n"
   ]
  },
  {
   "cell_type": "code",
   "execution_count": null,
   "metadata": {},
   "outputs": [],
   "source": [
    "f.get_firmware()"
   ]
  },
  {
   "cell_type": "code",
   "execution_count": null,
   "metadata": {},
   "outputs": [],
   "source": [
    "#f.get_work_mode()\n",
    "#f.set_work_mode('Feedin')\n",
    "f.get_work_mode()"
   ]
  },
  {
   "cell_type": "code",
   "execution_count": null,
   "metadata": {},
   "outputs": [],
   "source": [
    "f.get_battery()"
   ]
  },
  {
   "cell_type": "code",
   "execution_count": null,
   "metadata": {},
   "outputs": [],
   "source": [
    "f.get_settings()"
   ]
  },
  {
   "cell_type": "code",
   "execution_count": null,
   "metadata": {
    "editable": true,
    "slideshow": {
     "slide_type": ""
    },
    "tags": []
   },
   "outputs": [],
   "source": [
    "f.get_earnings()"
   ]
  },
  {
   "cell_type": "code",
   "execution_count": null,
   "metadata": {},
   "outputs": [],
   "source": [
    "f.raw_vars[:10]"
   ]
  },
  {
   "cell_type": "code",
   "execution_count": null,
   "metadata": {},
   "outputs": [],
   "source": [
    "f.get_raw(v='generationPower', summary=1)"
   ]
  },
  {
   "cell_type": "code",
   "execution_count": null,
   "metadata": {},
   "outputs": [],
   "source": [
    "f.get_raw(v='gridConsumptionPower', summary=-1)"
   ]
  },
  {
   "cell_type": "code",
   "execution_count": null,
   "metadata": {},
   "outputs": [],
   "source": [
    "f.get_raw('week', d='2023-10-21',v=['RVolt'], summary=2, station=1)"
   ]
  },
  {
   "cell_type": "code",
   "execution_count": null,
   "metadata": {
    "editable": true,
    "slideshow": {
     "slide_type": ""
    },
    "tags": []
   },
   "outputs": [],
   "source": [
    "f.get_raw('day', d='2023-08-21',v=['pvPower'], summary=2)"
   ]
  },
  {
   "cell_type": "code",
   "execution_count": null,
   "metadata": {
    "editable": true,
    "slideshow": {
     "slide_type": ""
    },
    "tags": []
   },
   "outputs": [],
   "source": [
    "f.get_raw('week', d='2023-08-21',v=['pvPower'], summary=2)"
   ]
  },
  {
   "cell_type": "code",
   "execution_count": null,
   "metadata": {},
   "outputs": [],
   "source": [
    "f.get_raw('day', d='2023-09-01',v=['RPower'], summary=2, save='rpower')"
   ]
  },
  {
   "cell_type": "code",
   "execution_count": null,
   "metadata": {},
   "outputs": [],
   "source": [
    "f.get_raw('day', d='2023-09-01',v=['RPower'], summary=2, load='rpower_raw_day_20230901.txt')"
   ]
  },
  {
   "cell_type": "code",
   "execution_count": null,
   "metadata": {},
   "outputs": [],
   "source": [
    "f.get_raw('day', d='2023-08-21',v=['pvPower','meterPower2'], summary=2)"
   ]
  },
  {
   "cell_type": "code",
   "execution_count": null,
   "metadata": {},
   "outputs": [],
   "source": [
    "d = '2023-11-17 00:00:00'\n",
    "result=f.get_raw('day', d=d, v=f.power_vars, summary=3)\n",
    "if result is not None:\n",
    "    for r in result:\n",
    "        print(f\"{r['name']:20} = {round(r['kwh'],3)}\")"
   ]
  },
  {
   "cell_type": "code",
   "execution_count": null,
   "metadata": {},
   "outputs": [],
   "source": [
    "result=f.get_report('month', d=d, v=f.report_vars)\n",
    "i = int(d[8:10])-1\n",
    "if result is not None:\n",
    "    for r in result:\n",
    "        print(f\"{r['variable']:20} = {round(r['data'][i]['value'],3)}\")"
   ]
  },
  {
   "cell_type": "code",
   "execution_count": null,
   "metadata": {},
   "outputs": [],
   "source": [
    "f.get_report('day', d=d, v='feedin', summary=2)"
   ]
  },
  {
   "cell_type": "code",
   "execution_count": null,
   "metadata": {},
   "outputs": [],
   "source": [
    "f.get_report('week', d=d, v='feedin', summary=2, save='feedin')"
   ]
  },
  {
   "cell_type": "code",
   "execution_count": null,
   "metadata": {},
   "outputs": [],
   "source": [
    "f.get_report('week', v='loads')"
   ]
  },
  {
   "cell_type": "code",
   "execution_count": null,
   "metadata": {},
   "outputs": [],
   "source": [
    "f.get_report('year', d=d, v='generation')"
   ]
  },
  {
   "cell_type": "code",
   "execution_count": null,
   "metadata": {},
   "outputs": [],
   "source": [
    "for d in f.date_list('2023-01-01', '2023-02-01'):\n",
    "    result = f.get_raw('day', d, v=['pvPower'], summary=2)\n",
    "    if result is not None:\n",
    "        max = result[0].get('max')\n",
    "        if max is not None and max > 0 and max < 100:\n",
    "            print(f\"{d} is valid, max pvPower = {max:.3f}kW\")\n",
    "            break"
   ]
  },
  {
   "cell_type": "code",
   "execution_count": null,
   "metadata": {},
   "outputs": [],
   "source": [
    "for d in f.date_list('2023-01-17', '2023-01-30'):\n",
    "    result = f.get_raw('day', d, v=['pv1Volt', 'pv1Current', 'pv2Volt', 'pv2Current', 'pvPower'], summary=1)\n",
    "    if result is not None:\n",
    "        wh = 0.0\n",
    "        for i,data in enumerate(result[0]['data']):\n",
    "            wh += result[0]['data'][i]['value'] * result[1]['data'][i]['value'] / 12   # pv1Volt * pv1Current / 12 \n",
    "            wh += result[2]['data'][i]['value'] * result[3]['data'][i]['value'] / 12   # pv2Volt * pv2Current / 12\n",
    "        print(f\"{d}: generation from IV = {round(wh/1000,3):.3f}kWh, generation from pvPower = {result[4]['kwh']:.3f}kWh\")"
   ]
  },
  {
   "cell_type": "code",
   "execution_count": null,
   "metadata": {},
   "outputs": [],
   "source": [
    "result=f.get_raw('day', d=f.date_list(span='2days', today=1), v=f.power_vars, plot=1)"
   ]
  },
  {
   "cell_type": "code",
   "execution_count": null,
   "metadata": {},
   "outputs": [],
   "source": [
    "result=f.get_raw('day', d=f.date_list(span='2days', today=1), v=['pv1Volt', 'pv2Volt', 'pv1Current', 'pv2Current'], plot=2)"
   ]
  },
  {
   "cell_type": "code",
   "execution_count": null,
   "metadata": {},
   "outputs": [],
   "source": [
    "result=f.get_report('day', d=f.date_list(span='2days'), v=f.report_vars, summary=1, plot=1, station=1)\n",
    "#result"
   ]
  },
  {
   "cell_type": "code",
   "execution_count": null,
   "metadata": {},
   "outputs": [],
   "source": [
    "result=f.get_report('day', d=f.date_list(span='2days'), v=f.report_vars, summary=1, plot=1)"
   ]
  },
  {
   "cell_type": "code",
   "execution_count": null,
   "metadata": {},
   "outputs": [],
   "source": [
    "result=f.get_report('day', d=f.date_list(span='day', e='2023-03-26'), v=f.report_vars, summary=1, plot=2)"
   ]
  },
  {
   "cell_type": "code",
   "execution_count": null,
   "metadata": {},
   "outputs": [],
   "source": [
    "result=f.get_report('week', d=f.date_list(), v=f.report_vars, summary=1, plot=2)"
   ]
  },
  {
   "cell_type": "code",
   "execution_count": null,
   "metadata": {},
   "outputs": [],
   "source": [
    "result=f.get_report('month', d=f.date_list(), v=['generation', 'feedin', 'gridConsumption'], summary=1, plot=2)"
   ]
  },
  {
   "cell_type": "code",
   "execution_count": null,
   "metadata": {},
   "outputs": [],
   "source": [
    "result=f.get_report('year', d=f.date_list(), v=f.report_vars, summary=1, plot=2)\n",
    "#print(result)"
   ]
  },
  {
   "cell_type": "code",
   "execution_count": null,
   "metadata": {},
   "outputs": [],
   "source": [
    "# test conversion of report data to total and 24 hour profile\n",
    "result = f.report_value_profile(f.get_report('day', f.date_list(span='week',today=1)[-3:], v='loads'))\n",
    "print(result)"
   ]
  },
  {
   "cell_type": "code",
   "execution_count": null,
   "metadata": {},
   "outputs": [],
   "source": [
    "# test fix_value for day report\n",
    "f.fix_values = 0\n",
    "result = f.get_report('day', d='2023-09-18', v='loads')\n",
    "if result is not None:\n",
    "    print(result[0]['total'])\n",
    "f.fix_values = 1\n",
    "f.get_report('day', d='2023-09-18', v='loads')"
   ]
  },
  {
   "cell_type": "code",
   "execution_count": null,
   "metadata": {},
   "outputs": [],
   "source": [
    "# test fix_value for month report\n",
    "f.get_report('month', d='2023-09-18', v='loads')"
   ]
  },
  {
   "cell_type": "code",
   "execution_count": null,
   "metadata": {},
   "outputs": [],
   "source": [
    "# test fix_value for year report\n",
    "f.get_report('year', d='2023-09-18', v='loads')"
   ]
  },
  {
   "cell_type": "code",
   "execution_count": null,
   "metadata": {},
   "outputs": [],
   "source": [
    "f.get_schedule()"
   ]
  },
  {
   "cell_type": "code",
   "execution_count": null,
   "metadata": {},
   "outputs": [],
   "source": [
    "period = [f.set_period(7,12,'SelfUse'), f.set_period(16,19,'Feedin'), f.set_period(2,4,'ForceCharge')]\n",
    "f.set_schedule(periods=period)\n",
    "f.set_schedule(enable=0)"
   ]
  },
  {
   "cell_type": "code",
   "execution_count": null,
   "metadata": {},
   "outputs": [],
   "source": [
    "f.british_summer_time()"
   ]
  },
  {
   "cell_type": "code",
   "execution_count": null,
   "metadata": {},
   "outputs": [],
   "source": [
    "# test british summer time\n",
    "import datetime\n",
    "dates = f.date_list(span='year', today=2, s=datetime.datetime.now())\n",
    "flags = f.british_summer_time(dates)\n",
    "last = None\n",
    "for date, flag in zip(dates, flags):\n",
    "    if last is not None and last != flag:\n",
    "        print(f\"{date} = {flag}\")\n",
    "    last = flag"
   ]
  },
  {
   "cell_type": "code",
   "execution_count": null,
   "metadata": {},
   "outputs": [],
   "source": [
    "import datetime\n",
    "dat = datetime.datetime.strptime('2024-03-31 00:00', '%Y-%m-%d %H:%M')\n",
    "for i in range(0,4):\n",
    "    print(f\"{dat} = {f.british_summer_time(dat)}\")\n",
    "    dat = dat + datetime.timedelta(hours=1)"
   ]
  },
  {
   "cell_type": "code",
   "execution_count": null,
   "metadata": {},
   "outputs": [],
   "source": [
    "f.get_report('day', d=f.date_list(span='weekday',e='2023-10-10',today=2),v='loads',summary=2)"
   ]
  },
  {
   "cell_type": "code",
   "execution_count": null,
   "metadata": {},
   "outputs": [],
   "source": [
    "template = f.find_template('Daily')\n",
    "print(f\"found: {template}\")\n",
    "f.templates"
   ]
  },
  {
   "cell_type": "code",
   "execution_count": null,
   "metadata": {},
   "outputs": [],
   "source": [
    "f.debug_setting=1\n",
    "f.set_schedule(template='DailyRunning')\n",
    "#f.set_schedule(template=template)"
   ]
  },
  {
   "cell_type": "code",
   "execution_count": null,
   "metadata": {},
   "outputs": [],
   "source": [
    "f.set_schedule(enable=0)"
   ]
  },
  {
   "cell_type": "code",
   "execution_count": null,
   "metadata": {},
   "outputs": [],
   "source": [
    "f.set_work_mode('Feedin')"
   ]
  },
  {
   "cell_type": "code",
   "execution_count": null,
   "metadata": {},
   "outputs": [],
   "source": [
    "print(f.get_cell_temps())"
   ]
  },
  {
   "cell_type": "code",
   "execution_count": null,
   "metadata": {},
   "outputs": [],
   "source": [
    "print(f.get_cell_volts())"
   ]
  },
  {
   "cell_type": "code",
   "execution_count": null,
   "metadata": {},
   "outputs": [],
   "source": [
    "f.set_charge(st1=2,en1=5,ch1=1)"
   ]
  },
  {
   "cell_type": "code",
   "execution_count": null,
   "metadata": {},
   "outputs": [],
   "source": []
  },
  {
   "cell_type": "code",
   "execution_count": null,
   "metadata": {},
   "outputs": [],
   "source": []
  }
 ],
 "metadata": {
  "kernelspec": {
   "display_name": "Python 3 (ipykernel)",
   "language": "python",
   "name": "python3"
  },
  "language_info": {
   "codemirror_mode": {
    "name": "ipython",
    "version": 3
   },
   "file_extension": ".py",
   "mimetype": "text/x-python",
   "name": "python",
   "nbconvert_exporter": "python",
   "pygments_lexer": "ipython3",
   "version": "3.11.2"
  }
 },
 "nbformat": 4,
 "nbformat_minor": 4
}
