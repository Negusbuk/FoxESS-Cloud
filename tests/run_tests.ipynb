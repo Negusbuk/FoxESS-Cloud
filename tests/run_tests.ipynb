{
 "cells": [
  {
   "cell_type": "code",
   "execution_count": 1,
   "metadata": {},
   "outputs": [
    {
     "name": "stdout",
     "output_type": "stream",
     "text": [
      "FoxESS-Cloud version 0.3.7\n"
     ]
    }
   ],
   "source": [
    "!pip install random-user-agent --root-user-action=ignore --quiet\n",
    "\n",
    "import foxess as f\n",
    "import private as my\n",
    "\n",
    "f.username = my.fox_username\n",
    "f.password = my.fox_password\n",
    "f.device_sn = my.fox_device_sn"
   ]
  },
  {
   "cell_type": "code",
   "execution_count": 2,
   "metadata": {},
   "outputs": [
    {
     "data": {
      "text/plain": [
       "{'user': 'tonymatthews89',\n",
       " 'name': 'Tony Matthews',\n",
       " 'phone': '07748987537',\n",
       " 'email': 'tony.matthews1@outlook.com',\n",
       " 'country': 'GB',\n",
       " 'city': 'Swindon',\n",
       " 'address': '89 Okebourne Park',\n",
       " 'postcode': '',\n",
       " 'note': '',\n",
       " 'clientID': '08fd6e5aafa84i4301rae51g6dfd7a779edc',\n",
       " 'countryName': 'United Kingdom',\n",
       " 'access': 1}"
      ]
     },
     "execution_count": 2,
     "metadata": {},
     "output_type": "execute_result"
    }
   ],
   "source": [
    "f.get_info()"
   ]
  },
  {
   "cell_type": "code",
   "execution_count": 3,
   "metadata": {},
   "outputs": [
    {
     "data": {
      "text/plain": [
       "{'name': '89 Okebourne Park',\n",
       " 'capacity': 393216,\n",
       " 'capacitySolaryaan': '',\n",
       " 'type': 2,\n",
       " 'quantity': 1,\n",
       " 'country': 'United Kingdom',\n",
       " 'countryCode': 'GB',\n",
       " 'city': 'Swindon',\n",
       " 'address': '89 Okebourne Park',\n",
       " 'postcode': 'SN3 6AJ',\n",
       " 'price': '',\n",
       " 'createdDate': '2023-01-10 13:23:49 GMT+0000',\n",
       " 'status': 1,\n",
       " 'stationID': 'ffca8cc5-6d3b-4d43-ba55-72d9e0828f0b',\n",
       " 'systemCapacity': 6400,\n",
       " 'generationToday': 19.5,\n",
       " 'power': 2.078,\n",
       " 'allowEdit': False,\n",
       " 'position': {'format': 'dd', 'x': '', 'y': '', 'pid': ''},\n",
       " 'pileSN': '',\n",
       " 'pileState': 0}"
      ]
     },
     "execution_count": 3,
     "metadata": {},
     "output_type": "execute_result"
    }
   ],
   "source": [
    "f.get_site()"
   ]
  },
  {
   "cell_type": "code",
   "execution_count": 4,
   "metadata": {},
   "outputs": [
    {
     "data": {
      "text/plain": [
       "{'moduleID': '85044387-f2a4-4bd1-9ff1-42dbe066fce1',\n",
       " 'moduleSN': '669L3EPF22WA061',\n",
       " 'moduleType': 'L3',\n",
       " 'plantName': '89 Okebourne Park',\n",
       " 'stationID': '',\n",
       " 'version': '3.08',\n",
       " 'signal': 0,\n",
       " 'communication': 1}"
      ]
     },
     "execution_count": 4,
     "metadata": {},
     "output_type": "execute_result"
    }
   ],
   "source": [
    "f.get_logger()"
   ]
  },
  {
   "cell_type": "code",
   "execution_count": 5,
   "metadata": {},
   "outputs": [
    {
     "data": {
      "text/plain": [
       "{'deviceID': 'dcd0712d-3434-40db-9323-933288bc5964',\n",
       " 'deviceSN': '65BH602026EB004',\n",
       " 'moduleSN': '669L3EPF22WA061',\n",
       " 'plantName': '89 Okebourne Park',\n",
       " 'deviceType': 'H1-6.0-E',\n",
       " 'country': 'United Kingdom',\n",
       " 'countryCode': '',\n",
       " 'feedinDate': '2023-01-10 15:09:35 GMT+0000',\n",
       " 'status': 1,\n",
       " 'power': 6.0,\n",
       " 'generationToday': 19.5,\n",
       " 'generationTotal': 4309.5,\n",
       " 'productType': 'H',\n",
       " 'flowType': 2,\n",
       " 'hasBattery': True,\n",
       " 'hasPV': True,\n",
       " 'dataLatestUploadDate': '2023-09-05 16:19:30 BST+0100',\n",
       " 'hasWifiMeter': False,\n",
       " 'inParallel': 0,\n",
       " 'wifiMeterID': '',\n",
       " 'wifiMeterSN': '',\n",
       " 'atFlag': False,\n",
       " 'eps': True,\n",
       " 'model': 'H1',\n",
       " 'phase': 1}"
      ]
     },
     "execution_count": 5,
     "metadata": {},
     "output_type": "execute_result"
    }
   ],
   "source": [
    "f.get_device()"
   ]
  },
  {
   "cell_type": "code",
   "execution_count": 6,
   "metadata": {},
   "outputs": [
    {
     "data": {
      "text/plain": [
       "{'master': '1.54', 'slave': '1.02', 'manager': '1.57', 'afci': ''}"
      ]
     },
     "execution_count": 6,
     "metadata": {},
     "output_type": "execute_result"
    }
   ],
   "source": [
    "f.get_firmware()"
   ]
  },
  {
   "cell_type": "code",
   "execution_count": 7,
   "metadata": {},
   "outputs": [
    {
     "data": {
      "text/plain": [
       "'Feedin'"
      ]
     },
     "execution_count": 7,
     "metadata": {},
     "output_type": "execute_result"
    }
   ],
   "source": [
    "#f.get_work_mode()\n",
    "#f.set_work_mode('SelfUse')\n",
    "f.get_work_mode()"
   ]
  },
  {
   "cell_type": "code",
   "execution_count": 8,
   "metadata": {},
   "outputs": [
    {
     "data": {
      "text/plain": [
       "{'status': 1,\n",
       " 'soc': 99,\n",
       " 'volt': 319.6,\n",
       " 'current': 0,\n",
       " 'power': 0.054,\n",
       " 'residual': 13480,\n",
       " 'temperature': 33.3,\n",
       " 'timestamp': '',\n",
       " 'warning': False,\n",
       " 'descUrl': ''}"
      ]
     },
     "execution_count": 8,
     "metadata": {},
     "output_type": "execute_result"
    }
   ],
   "source": [
    "f.get_battery()"
   ]
  },
  {
   "cell_type": "code",
   "execution_count": 9,
   "metadata": {},
   "outputs": [
    {
     "data": {
      "text/plain": [
       "{'times': [{'tip': '',\n",
       "   'enableCharge': True,\n",
       "   'enableGrid': False,\n",
       "   'startTime': {'hour': 0, 'minute': 0},\n",
       "   'endTime': {'hour': 0, 'minute': 0}},\n",
       "  {'tip': '',\n",
       "   'enableCharge': True,\n",
       "   'enableGrid': False,\n",
       "   'startTime': {'hour': 0, 'minute': 0},\n",
       "   'endTime': {'hour': 0, 'minute': 0}}],\n",
       " 'minSoc': 10,\n",
       " 'minGridSoc': 12}"
      ]
     },
     "execution_count": 9,
     "metadata": {},
     "output_type": "execute_result"
    }
   ],
   "source": [
    "f.get_settings()"
   ]
  },
  {
   "cell_type": "code",
   "execution_count": 10,
   "metadata": {
    "editable": true,
    "slideshow": {
     "slide_type": ""
    },
    "tags": []
   },
   "outputs": [
    {
     "data": {
      "text/plain": [
       "{'currency': 'GBP(￡)',\n",
       " 'power': 2.078,\n",
       " 'today': {'generation': 19.5, 'earnings': 4.095},\n",
       " 'month': {'generation': 97.89999999999964, 'earnings': 20.558999999999923},\n",
       " 'year': {'generation': 4309.5, 'earnings': 904.995},\n",
       " 'cumulate': {'generation': 4309.5, 'earnings': 904.995},\n",
       " 'systemCapacity': 393216}"
      ]
     },
     "execution_count": 10,
     "metadata": {},
     "output_type": "execute_result"
    }
   ],
   "source": [
    "f.get_earnings()"
   ]
  },
  {
   "cell_type": "code",
   "execution_count": 11,
   "metadata": {},
   "outputs": [
    {
     "data": {
      "text/plain": [
       "[{'name': 'PV1Volt', 'variable': 'pv1Volt', 'unit': 'V'},\n",
       " {'name': 'PV1Current', 'variable': 'pv1Current', 'unit': 'A'},\n",
       " {'name': 'PV1Power', 'variable': 'pv1Power', 'unit': 'kW'},\n",
       " {'name': 'PVPower', 'variable': 'pvPower', 'unit': 'kW'},\n",
       " {'name': 'PV2Volt', 'variable': 'pv2Volt', 'unit': 'V'},\n",
       " {'name': 'PV2Current', 'variable': 'pv2Current', 'unit': 'A'},\n",
       " {'name': 'PV2Power', 'variable': 'pv2Power', 'unit': 'kW'},\n",
       " {'name': 'PV3Volt', 'variable': 'pv3Volt', 'unit': 'V'},\n",
       " {'name': 'PV3Current', 'variable': 'pv3Current', 'unit': 'A'},\n",
       " {'name': 'PV3Power', 'variable': 'pv3Power', 'unit': 'kW'}]"
      ]
     },
     "execution_count": 11,
     "metadata": {},
     "output_type": "execute_result"
    }
   ],
   "source": [
    "f.raw_vars[:10]"
   ]
  },
  {
   "cell_type": "code",
   "execution_count": 12,
   "metadata": {},
   "outputs": [
    {
     "data": {
      "text/plain": [
       "[{'variable': 'generationPower',\n",
       "  'unit': 'kW',\n",
       "  'name': 'Output Power',\n",
       "  'data': [{'time': '2023-09-05 16:04:29 BST+0100', 'value': 2.164},\n",
       "   {'time': '2023-09-05 16:09:30 BST+0100', 'value': 2.114},\n",
       "   {'time': '2023-09-05 16:14:30 BST+0100', 'value': 2.105},\n",
       "   {'time': '2023-09-05 16:19:30 BST+0100', 'value': 2.078}]}]"
      ]
     },
     "execution_count": 12,
     "metadata": {},
     "output_type": "execute_result"
    }
   ],
   "source": [
    "f.get_raw(v='generationPower', summary=1)"
   ]
  },
  {
   "cell_type": "code",
   "execution_count": 13,
   "metadata": {},
   "outputs": [
    {
     "data": {
      "text/plain": [
       "[{'variable': 'RVolt',\n",
       "  'unit': 'V',\n",
       "  'name': 'RVolt',\n",
       "  'date': '2023-08-15',\n",
       "  'count': 288,\n",
       "  'average': 240.115,\n",
       "  'max': 248.1,\n",
       "  'max_time': '16:13',\n",
       "  'min': 235.1,\n",
       "  'min_time': '12:08'},\n",
       " {'variable': 'RVolt',\n",
       "  'unit': 'V',\n",
       "  'name': 'RVolt',\n",
       "  'date': '2023-08-16',\n",
       "  'count': 288,\n",
       "  'average': 241.121,\n",
       "  'max': 249.6,\n",
       "  'max_time': '12:33',\n",
       "  'min': 234.9,\n",
       "  'min_time': '20:38'},\n",
       " {'variable': 'RVolt',\n",
       "  'unit': 'V',\n",
       "  'name': 'RVolt',\n",
       "  'date': '2023-08-17',\n",
       "  'count': 288,\n",
       "  'average': 239.999,\n",
       "  'max': 250.2,\n",
       "  'max_time': '14:39',\n",
       "  'min': 233.6,\n",
       "  'min_time': '19:59'},\n",
       " {'variable': 'RVolt',\n",
       "  'unit': 'V',\n",
       "  'name': 'RVolt',\n",
       "  'date': '2023-08-18',\n",
       "  'count': 288,\n",
       "  'average': 238.131,\n",
       "  'max': 242.5,\n",
       "  'max_time': '17:19',\n",
       "  'min': 231.6,\n",
       "  'min_time': '12:59'},\n",
       " {'variable': 'RVolt',\n",
       "  'unit': 'V',\n",
       "  'name': 'RVolt',\n",
       "  'date': '2023-08-19',\n",
       "  'count': 288,\n",
       "  'average': 239.047,\n",
       "  'max': 248.9,\n",
       "  'max_time': '15:24',\n",
       "  'min': 234,\n",
       "  'min_time': '07:29'},\n",
       " {'variable': 'RVolt',\n",
       "  'unit': 'V',\n",
       "  'name': 'RVolt',\n",
       "  'date': '2023-08-20',\n",
       "  'count': 287,\n",
       "  'average': 239.281,\n",
       "  'max': 249.3,\n",
       "  'max_time': '15:45',\n",
       "  'min': 233.3,\n",
       "  'min_time': '19:30'},\n",
       " {'variable': 'RVolt',\n",
       "  'unit': 'V',\n",
       "  'name': 'RVolt',\n",
       "  'date': '2023-08-21',\n",
       "  'count': 288,\n",
       "  'average': 239.537,\n",
       "  'max': 247.1,\n",
       "  'max_time': '16:35',\n",
       "  'min': 234.3,\n",
       "  'min_time': '07:35'}]"
      ]
     },
     "execution_count": 13,
     "metadata": {},
     "output_type": "execute_result"
    }
   ],
   "source": [
    "f.get_raw('week', d='2023-08-21',v=['RVolt'], summary=2)"
   ]
  },
  {
   "cell_type": "code",
   "execution_count": 14,
   "metadata": {
    "editable": true,
    "slideshow": {
     "slide_type": ""
    },
    "tags": []
   },
   "outputs": [
    {
     "data": {
      "text/plain": [
       "[{'variable': 'pvPower',\n",
       "  'unit': 'kWh',\n",
       "  'name': 'pv_energy_daily',\n",
       "  'kwh': 23.705,\n",
       "  'kwh_off': 0.0,\n",
       "  'kwh_peak': 5.243,\n",
       "  'kwh_neg': 0.0,\n",
       "  'date': '2023-08-15',\n",
       "  'count': 288,\n",
       "  'average': 0.988,\n",
       "  'max': 5.669,\n",
       "  'max_time': '12:18',\n",
       "  'min': 0,\n",
       "  'min_time': '00:03'},\n",
       " {'variable': 'pvPower',\n",
       "  'unit': 'kWh',\n",
       "  'name': 'pv_energy_daily',\n",
       "  'kwh': 30.598,\n",
       "  'kwh_off': 0.0,\n",
       "  'kwh_peak': 5.031,\n",
       "  'kwh_neg': 0.0,\n",
       "  'date': '2023-08-16',\n",
       "  'count': 288,\n",
       "  'average': 1.275,\n",
       "  'max': 4.692,\n",
       "  'max_time': '14:08',\n",
       "  'min': 0,\n",
       "  'min_time': '00:03'},\n",
       " {'variable': 'pvPower',\n",
       "  'unit': 'kWh',\n",
       "  'name': 'pv_energy_daily',\n",
       "  'kwh': 23.778,\n",
       "  'kwh_off': 0.0,\n",
       "  'kwh_peak': 2.063,\n",
       "  'kwh_neg': 0.0,\n",
       "  'date': '2023-08-17',\n",
       "  'count': 288,\n",
       "  'average': 0.991,\n",
       "  'max': 4.959,\n",
       "  'max_time': '13:24',\n",
       "  'min': 0,\n",
       "  'min_time': '00:04'},\n",
       " {'variable': 'pvPower',\n",
       "  'unit': 'kWh',\n",
       "  'name': 'pv_energy_daily',\n",
       "  'kwh': 8.404,\n",
       "  'kwh_off': 0.0,\n",
       "  'kwh_peak': 1.37,\n",
       "  'kwh_neg': 0.0,\n",
       "  'date': '2023-08-18',\n",
       "  'count': 288,\n",
       "  'average': 0.35,\n",
       "  'max': 2.528,\n",
       "  'max_time': '14:59',\n",
       "  'min': 0,\n",
       "  'min_time': '00:04'},\n",
       " {'variable': 'pvPower',\n",
       "  'unit': 'kWh',\n",
       "  'name': 'pv_energy_daily',\n",
       "  'kwh': 23.435,\n",
       "  'kwh_off': 0.0,\n",
       "  'kwh_peak': 3.95,\n",
       "  'kwh_neg': 0.0,\n",
       "  'date': '2023-08-19',\n",
       "  'count': 288,\n",
       "  'average': 0.976,\n",
       "  'max': 5.594,\n",
       "  'max_time': '13:24',\n",
       "  'min': 0,\n",
       "  'min_time': '00:04'},\n",
       " {'variable': 'pvPower',\n",
       "  'unit': 'kWh',\n",
       "  'name': 'pv_energy_daily',\n",
       "  'kwh': 20.85,\n",
       "  'kwh_off': 0.0,\n",
       "  'kwh_peak': 3.167,\n",
       "  'kwh_neg': 0.0,\n",
       "  'date': '2023-08-20',\n",
       "  'count': 287,\n",
       "  'average': 0.872,\n",
       "  'max': 5.161,\n",
       "  'max_time': '12:09',\n",
       "  'min': 0,\n",
       "  'min_time': '00:04'},\n",
       " {'variable': 'pvPower',\n",
       "  'unit': 'kWh',\n",
       "  'name': 'pv_energy_daily',\n",
       "  'kwh': 22.205,\n",
       "  'kwh_off': 0.0,\n",
       "  'kwh_peak': 4.941,\n",
       "  'kwh_neg': 0.0,\n",
       "  'date': '2023-08-21',\n",
       "  'count': 288,\n",
       "  'average': 0.925,\n",
       "  'max': 5.366,\n",
       "  'max_time': '12:50',\n",
       "  'min': 0,\n",
       "  'min_time': '00:00'}]"
      ]
     },
     "execution_count": 14,
     "metadata": {},
     "output_type": "execute_result"
    }
   ],
   "source": [
    "f.get_raw('week', d='2023-08-21',v=['pvPower'], summary=2)"
   ]
  },
  {
   "cell_type": "code",
   "execution_count": 15,
   "metadata": {},
   "outputs": [
    {
     "data": {
      "text/plain": [
       "[{'variable': 'RPower',\n",
       "  'unit': 'kWh',\n",
       "  'name': 'RPower',\n",
       "  'kwh': 12.355,\n",
       "  'kwh_off': 0.561,\n",
       "  'kwh_peak': 3.666,\n",
       "  'kwh_neg': 4.418,\n",
       "  'date': '2023-09-01',\n",
       "  'count': 287,\n",
       "  'average': 0.332,\n",
       "  'max': 3.35,\n",
       "  'max_time': '18:53',\n",
       "  'min': -4.446,\n",
       "  'min_time': '02:58'}]"
      ]
     },
     "execution_count": 15,
     "metadata": {},
     "output_type": "execute_result"
    }
   ],
   "source": [
    "f.get_raw('day', d='2023-09-01',v=['RPower'], summary=2, save='rpower')"
   ]
  },
  {
   "cell_type": "code",
   "execution_count": 16,
   "metadata": {},
   "outputs": [
    {
     "data": {
      "text/plain": [
       "[{'variable': 'RPower',\n",
       "  'unit': 'kWh',\n",
       "  'name': 'RPower',\n",
       "  'kwh': 12.355,\n",
       "  'kwh_off': 0.561,\n",
       "  'kwh_peak': 3.666,\n",
       "  'kwh_neg': 4.418,\n",
       "  'date': '2023-09-01',\n",
       "  'count': 287,\n",
       "  'average': 0.332,\n",
       "  'max': 3.35,\n",
       "  'max_time': '18:53',\n",
       "  'min': -4.446,\n",
       "  'min_time': '02:58'}]"
      ]
     },
     "execution_count": 16,
     "metadata": {},
     "output_type": "execute_result"
    }
   ],
   "source": [
    "f.get_raw('day', d='2023-09-01',v=['RPower'], summary=2, load='rpower_raw_day_20230901.json')"
   ]
  },
  {
   "cell_type": "code",
   "execution_count": 17,
   "metadata": {},
   "outputs": [
    {
     "data": {
      "text/plain": [
       "[{'variable': 'pvPower',\n",
       "  'unit': 'kWh',\n",
       "  'name': 'pv_energy_daily',\n",
       "  'kwh': 22.205,\n",
       "  'kwh_off': 0.0,\n",
       "  'kwh_peak': 4.941,\n",
       "  'kwh_neg': 0.0,\n",
       "  'date': '2023-08-21',\n",
       "  'count': 288,\n",
       "  'average': 0.925,\n",
       "  'max': 5.366,\n",
       "  'max_time': '12:50',\n",
       "  'min': 0,\n",
       "  'min_time': '00:00'},\n",
       " {'variable': 'meterPower2',\n",
       "  'unit': 'kWh',\n",
       "  'name': 'ct2_daily',\n",
       "  'kwh': 0.0,\n",
       "  'kwh_off': 0.0,\n",
       "  'kwh_peak': 0.0,\n",
       "  'kwh_neg': 0.0,\n",
       "  'date': '2023-08-21',\n",
       "  'count': 288,\n",
       "  'average': 0.0,\n",
       "  'max': 0,\n",
       "  'max_time': '00:00',\n",
       "  'min': 0,\n",
       "  'min_time': '00:00'}]"
      ]
     },
     "execution_count": 17,
     "metadata": {},
     "output_type": "execute_result"
    }
   ],
   "source": [
    "f.flip_ct2 = True\n",
    "f.get_raw('day', d='2023-08-21',v=['pvPower','meterPower2'], summary=2)"
   ]
  },
  {
   "cell_type": "code",
   "execution_count": 18,
   "metadata": {},
   "outputs": [
    {
     "name": "stdout",
     "output_type": "stream",
     "text": [
      "output_daily         = 19.663\n",
      "feedin_daily         = 8.523\n",
      "load_daily           = 11.984\n",
      "grid_daily           = 0.864\n",
      "bat_charge_daily     = 6.725\n",
      "bat_discharge_daily  = 5.248\n",
      "pv_energy_daily      = 23.554\n",
      "ct2_daily            = 0.0\n",
      "input_daily          = 0.0\n"
     ]
    }
   ],
   "source": [
    "d = '2023-05-17 00:00:00'\n",
    "result=f.get_raw('day', d=d, v=f.power_vars, summary=3)\n",
    "for r in result:\n",
    "    print(f\"{r['name']:20} = {round(r['kwh'],3)}\")"
   ]
  },
  {
   "cell_type": "code",
   "execution_count": 19,
   "metadata": {},
   "outputs": [
    {
     "name": "stdout",
     "output_type": "stream",
     "text": [
      "generation           = 20\n",
      "feedin               = 8\n",
      "loads                = 12.5\n",
      "gridConsumption      = 0.7\n",
      "chargeEnergyToTal    = 6.9\n",
      "dischargeEnergyToTal = 5.5\n"
     ]
    }
   ],
   "source": [
    "result=f.get_report('month', d=d, v=f.report_vars)\n",
    "i = int(d[8:10])-1\n",
    "for r in result:\n",
    "    print(f\"{r['variable']:20} = {round(r['data'][i]['value'],3)}\")"
   ]
  },
  {
   "cell_type": "code",
   "execution_count": 20,
   "metadata": {},
   "outputs": [
    {
     "data": {
      "text/plain": [
       "[{'variable': 'feedin', 'data': [], 'total': 8}]"
      ]
     },
     "execution_count": 20,
     "metadata": {},
     "output_type": "execute_result"
    }
   ],
   "source": [
    "f.get_report('day', d=d, v='feedin', summary=2)"
   ]
  },
  {
   "cell_type": "code",
   "execution_count": 21,
   "metadata": {},
   "outputs": [
    {
     "data": {
      "text/plain": [
       "[{'variable': 'feedin',\n",
       "  'data': [{'index': 11, 'value': 4.800000000000011},\n",
       "   {'index': 12, 'value': 1},\n",
       "   {'index': 13, 'value': 1.5},\n",
       "   {'index': 14, 'value': 12.5},\n",
       "   {'index': 15, 'value': 12.5},\n",
       "   {'index': 16, 'value': 13.199999999999989},\n",
       "   {'index': 17, 'value': 8}],\n",
       "  'total': 53.5,\n",
       "  'sum': 53.5,\n",
       "  'average': 7.643,\n",
       "  'date': '2023-05-17 00:00:00',\n",
       "  'count': 7,\n",
       "  'max': 13.2,\n",
       "  'max_index': 5,\n",
       "  'min': 1,\n",
       "  'min_index': 1}]"
      ]
     },
     "execution_count": 21,
     "metadata": {},
     "output_type": "execute_result"
    }
   ],
   "source": [
    "f.get_report('week', d=d, v='feedin', summary=2, save='feedin')"
   ]
  },
  {
   "cell_type": "code",
   "execution_count": 22,
   "metadata": {},
   "outputs": [
    {
     "data": {
      "text/plain": [
       "[{'variable': 'loads',\n",
       "  'data': [{'index': 29, 'value': 13.199999999999818},\n",
       "   {'index': 30, 'value': 15.700000000000273},\n",
       "   {'index': 31, 'value': 15.199999999999818},\n",
       "   {'index': 1, 'value': 12.099999999999909},\n",
       "   {'index': 2, 'value': 13.600000000000364},\n",
       "   {'index': 3, 'value': 9.299999999999727},\n",
       "   {'index': 4, 'value': 10.5}],\n",
       "  'total': 89.6,\n",
       "  'sum': 89.6,\n",
       "  'average': 12.8,\n",
       "  'date': '2023-09-04',\n",
       "  'count': 7,\n",
       "  'max': 15.7,\n",
       "  'max_index': 1,\n",
       "  'min': 9.3,\n",
       "  'min_index': 5}]"
      ]
     },
     "execution_count": 22,
     "metadata": {},
     "output_type": "execute_result"
    }
   ],
   "source": [
    "f.get_report('week', v='loads')"
   ]
  },
  {
   "cell_type": "code",
   "execution_count": 23,
   "metadata": {},
   "outputs": [
    {
     "data": {
      "text/plain": [
       "[{'variable': 'generation',\n",
       "  'data': [{'index': 1, 'value': 87.89999999999999},\n",
       "   {'index': 2, 'value': 246.3},\n",
       "   {'index': 3, 'value': 464.0000000000002},\n",
       "   {'index': 4, 'value': 625.0000000000003},\n",
       "   {'index': 5, 'value': 740.9999999999995},\n",
       "   {'index': 6, 'value': 773.0999999999999},\n",
       "   {'index': 7, 'value': 618.2000000000003},\n",
       "   {'index': 8, 'value': 619.5999999999999},\n",
       "   {'index': 9, 'value': 97.69999999999891}],\n",
       "  'total': 4272.8,\n",
       "  'sum': 4272.8,\n",
       "  'average': 474.756,\n",
       "  'date': '2023-05-17 00:00:00',\n",
       "  'count': 9,\n",
       "  'max': 773.1,\n",
       "  'max_index': 5,\n",
       "  'min': 87.9,\n",
       "  'min_index': 0}]"
      ]
     },
     "execution_count": 23,
     "metadata": {},
     "output_type": "execute_result"
    }
   ],
   "source": [
    "f.get_report('year', d=d, v='generation')"
   ]
  },
  {
   "cell_type": "code",
   "execution_count": null,
   "metadata": {},
   "outputs": [],
   "source": []
  }
 ],
 "metadata": {
  "kernelspec": {
   "display_name": "Python 3 (ipykernel)",
   "language": "python",
   "name": "python3"
  },
  "language_info": {
   "codemirror_mode": {
    "name": "ipython",
    "version": 3
   },
   "file_extension": ".py",
   "mimetype": "text/x-python",
   "name": "python",
   "nbconvert_exporter": "python",
   "pygments_lexer": "ipython3",
   "version": "3.9.2"
  }
 },
 "nbformat": 4,
 "nbformat_minor": 4
}
