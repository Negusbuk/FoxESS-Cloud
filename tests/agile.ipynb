{
 "cells": [
  {
   "cell_type": "code",
   "execution_count": 1,
   "id": "fb1a0d8b-fd88-4b1d-91a5-8c92eba6e377",
   "metadata": {},
   "outputs": [
    {
     "name": "stdout",
     "output_type": "stream",
     "text": [
      "FoxESS-Cloud version 0.8.2\n"
     ]
    }
   ],
   "source": [
    "# Run this cell first to initialise your notebook\n",
    "\n",
    "!pip install random-user-agent --root-user-action=ignore --quiet\n",
    "#!pip install foxesscloud --root-user-action=ignore --quiet --upgrade\n",
    "import foxess as f\n",
    "import private as my\n",
    "\n",
    "# add your Fox ESS user and inverter info here\n",
    "f.username = my.fox_username\n",
    "f.password = my.fox_password\n",
    "f.device_sn = my.fox_device_sn"
   ]
  },
  {
   "cell_type": "code",
   "execution_count": 2,
   "id": "562048b8-d8e5-4892-ad22-c380c0a203a5",
   "metadata": {},
   "outputs": [
    {
     "name": "stdout",
     "output_type": "stream",
     "text": [
      "\n",
      "------------- set_agile_period ---------------\n",
      "Product AGILE-FLEX-22-11-25 in Southern England region from 2023-10-22 23:00 to 2023-10-23 23:00\n",
      "3 hour charging period from 00:00 to 03:00 has a weighted average price of 19.70 p/kWh inc VAT\n",
      "\n",
      "Tariff has been updated\n"
     ]
    }
   ],
   "source": [
    "f.set_agile_period(duration=3, update=1)"
   ]
  },
  {
   "cell_type": "code",
   "execution_count": 3,
   "id": "1f317321-3daa-4362-9577-f0075c466a23",
   "metadata": {},
   "outputs": [
    {
     "data": {
      "text/plain": [
       "{'name': 'Agile Octopus',\n",
       " 'off_peak1': {'start': 0.0, 'end': 3.0, 'force': 1},\n",
       " 'off_peak2': {'start': 0.0, 'end': 0.0, 'force': 0},\n",
       " 'peak': {'start': 16.0, 'end': 19.0},\n",
       " 'peak2': {'start': 0.0, 'end': 0.0},\n",
       " 'forecast_times': [22, 23]}"
      ]
     },
     "execution_count": 3,
     "metadata": {},
     "output_type": "execute_result"
    }
   ],
   "source": [
    "f.agile_octopus"
   ]
  },
  {
   "cell_type": "code",
   "execution_count": 4,
   "id": "0148f6c6-a52c-4758-993c-096d2cc978ee",
   "metadata": {},
   "outputs": [
    {
     "data": {
      "text/plain": [
       "{'status': 1,\n",
       " 'soc': 79,\n",
       " 'volt': 318.4,\n",
       " 'current': 1.7,\n",
       " 'power': 0.504,\n",
       " 'residual': 11200,\n",
       " 'temperature': 30.4,\n",
       " 'timestamp': '',\n",
       " 'warning': False,\n",
       " 'descUrl': ''}"
      ]
     },
     "execution_count": 4,
     "metadata": {},
     "output_type": "execute_result"
    }
   ],
   "source": [
    "f.get_battery()"
   ]
  },
  {
   "cell_type": "code",
   "execution_count": 5,
   "id": "d5eee35a-642a-4cf6-890f-b8923bb87ee9",
   "metadata": {},
   "outputs": [
    {
     "data": {
      "text/plain": [
       "[{'variable': 'pvPower',\n",
       "  'unit': 'kW',\n",
       "  'name': 'PVPower',\n",
       "  'data': [{'time': '2023-10-22 17:02:20 BST+0100', 'value': 0.13},\n",
       "   {'time': '2023-10-22 17:07:20 BST+0100', 'value': 0.133},\n",
       "   {'time': '2023-10-22 17:12:20 BST+0100', 'value': 0.10899999999999999},\n",
       "   {'time': '2023-10-22 17:17:21 BST+0100', 'value': 0.10700000000000001},\n",
       "   {'time': '2023-10-22 17:22:21 BST+0100', 'value': 0.062},\n",
       "   {'time': '2023-10-22 17:27:21 BST+0100', 'value': 0.022},\n",
       "   {'time': '2023-10-22 17:32:21 BST+0100', 'value': 0.045}],\n",
       "  'date': '2023-10-22'}]"
      ]
     },
     "execution_count": 5,
     "metadata": {},
     "output_type": "execute_result"
    }
   ],
   "source": [
    "f.get_raw('hour', v='pvPower')"
   ]
  }
 ],
 "metadata": {
  "kernelspec": {
   "display_name": "Python 3 (ipykernel)",
   "language": "python",
   "name": "python3"
  },
  "language_info": {
   "codemirror_mode": {
    "name": "ipython",
    "version": 3
   },
   "file_extension": ".py",
   "mimetype": "text/x-python",
   "name": "python",
   "nbconvert_exporter": "python",
   "pygments_lexer": "ipython3",
   "version": "3.11.2"
  }
 },
 "nbformat": 4,
 "nbformat_minor": 5
}
