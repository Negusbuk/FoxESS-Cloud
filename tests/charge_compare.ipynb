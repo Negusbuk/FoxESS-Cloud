{
 "cells": [
  {
   "cell_type": "code",
   "execution_count": null,
   "id": "ff63c5ff-1a63-4b04-8c5f-dfb6a81e0f51",
   "metadata": {},
   "outputs": [],
   "source": [
    "# run forecast\n",
    "import private as my\n",
    "#import foxesscloud as f\n",
    "import openapi as f\n",
    "\n",
    "# add your Fox ESS user and inverter info here\n",
    "f.username = my.fox_username\n",
    "f.password = my.fox_password\n",
    "f.api_key = my.fox_api_key\n",
    "f.device_sn = my.fox_device_sn\n",
    "f.time_zone = my.time_zone\n",
    "# set to 1 when residual returns battery energy, 2 when residual returns battery capacity\n",
    "f.residual_handling = 2"
   ]
  },
  {
   "cell_type": "code",
   "execution_count": null,
   "id": "f183aae7-a8e8-4346-80ae-f6f928091d8f",
   "metadata": {},
   "outputs": [],
   "source": [
    "f.charge_compare('charge_needed.txt')"
   ]
  },
  {
   "cell_type": "code",
   "execution_count": null,
   "id": "80b32d65-d13f-4745-b927-bdbd19e73544",
   "metadata": {},
   "outputs": [],
   "source": []
  }
 ],
 "metadata": {
  "kernelspec": {
   "display_name": "Python 3 (ipykernel)",
   "language": "python",
   "name": "python3"
  },
  "language_info": {
   "codemirror_mode": {
    "name": "ipython",
    "version": 3
   },
   "file_extension": ".py",
   "mimetype": "text/x-python",
   "name": "python",
   "nbconvert_exporter": "python",
   "pygments_lexer": "ipython3",
   "version": "3.11.2"
  }
 },
 "nbformat": 4,
 "nbformat_minor": 5
}
