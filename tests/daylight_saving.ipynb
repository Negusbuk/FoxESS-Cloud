{
 "cells": [
  {
   "cell_type": "code",
   "execution_count": null,
   "id": "a696c94e-ebfc-4a18-b371-bec1694bc2bc",
   "metadata": {},
   "outputs": [],
   "source": [
    "# setup for testing\n",
    "import foxesscloud as f\n",
    "import private as my\n",
    "import json\n",
    "\n",
    "f.username = my.fox_username\n",
    "f.password = my.fox_password\n",
    "f.device_sn = my.fox_device_sn\n",
    "f.time_zone = \"Europe/London\"\n",
    "# set to 1 when residual returns battery energy, 2 when residual returns battery capacity\n",
    "f.residual_handling = 2\n",
    "\n",
    "f.plot_file=\"plot1###.png\"\n",
    "f.debug_setting = 1"
   ]
  },
  {
   "cell_type": "code",
   "execution_count": null,
   "id": "4e70fc80-6324-4693-9eb3-9a6862ea281d",
   "metadata": {},
   "outputs": [],
   "source": [
    "f.get_history('day', v='gridConsumptionPower', d=[\"2024-03-30\",\"2024-03-31\",\"2024-04-01\"], plot=1)"
   ]
  },
  {
   "cell_type": "code",
   "execution_count": null,
   "id": "7cb9952f-1773-4b7b-a3dc-49da263ac5b8",
   "metadata": {},
   "outputs": [],
   "source": []
  }
 ],
 "metadata": {
  "kernelspec": {
   "display_name": "Python 3 (ipykernel)",
   "language": "python",
   "name": "python3"
  },
  "language_info": {
   "codemirror_mode": {
    "name": "ipython",
    "version": 3
   },
   "file_extension": ".py",
   "mimetype": "text/x-python",
   "name": "python",
   "nbconvert_exporter": "python",
   "pygments_lexer": "ipython3",
   "version": "3.11.2"
  }
 },
 "nbformat": 4,
 "nbformat_minor": 5
}
