{
 "cells": [
  {
   "cell_type": "markdown",
   "metadata": {},
   "source": [
    "<h3>Solar Forecast</h3>\n",
    "\n",
    "Get 13 day solar forecast from your Solcast account / resource ids."
   ]
  },
  {
   "cell_type": "code",
   "execution_count": null,
   "metadata": {},
   "outputs": [],
   "source": [
    "# run forecast\n",
    "import private as my\n",
    "import foxesscloud as f\n",
    "\n",
    "# add your Fox ESS user and inverter info here\n",
    "f.username = my.fox_username\n",
    "f.password = my.fox_password\n",
    "f.device_sn = my.fox_device_sn\n",
    "f.time_zone = my.time_zone\n",
    "# set to 1 when residual returns battery energy, 2 when residual returns battery capacity\n",
    "f.residual_handling = 2\n",
    "\n",
    "f.solcast_api_key = None"
   ]
  },
  {
   "cell_type": "code",
   "execution_count": null,
   "metadata": {},
   "outputs": [],
   "source": [
    "fsolcast = f.Solcast(estimated=1, reload=0, shading=f.charge_config.get('shading'))\n",
    "fsolcast.compare()"
   ]
  },
  {
   "cell_type": "code",
   "execution_count": null,
   "metadata": {},
   "outputs": [],
   "source": [
    "f.solar_array('East', lat=51.5477, lon=-1.7354, dec=30, az=-100, kwp=3.2, inv=3.6)\n",
    "f.solar_array('West', lat=51.5477, lon=-1.7354, dec=30, az=80, kwp=3.2, inv=3.6)\n",
    "fsolar = f.Solar(reload=0, shading=f.charge_config.get('shading'))\n",
    "fsolar.plot_pt30(fsolar.today)\n",
    "fsolar.compare()"
   ]
  },
  {
   "cell_type": "code",
   "execution_count": null,
   "metadata": {},
   "outputs": [],
   "source": [
    "fsolcast.shading"
   ]
  },
  {
   "cell_type": "code",
   "execution_count": null,
   "metadata": {},
   "outputs": [],
   "source": []
  }
 ],
 "metadata": {
  "kernelspec": {
   "display_name": "Python 3 (ipykernel)",
   "language": "python",
   "name": "python3"
  },
  "language_info": {
   "codemirror_mode": {
    "name": "ipython",
    "version": 3
   },
   "file_extension": ".py",
   "mimetype": "text/x-python",
   "name": "python",
   "nbconvert_exporter": "python",
   "pygments_lexer": "ipython3",
   "version": "3.11.2"
  }
 },
 "nbformat": 4,
 "nbformat_minor": 4
}
