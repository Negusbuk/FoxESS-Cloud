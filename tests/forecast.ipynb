{
 "cells": [
  {
   "cell_type": "markdown",
   "metadata": {},
   "source": [
    "<h3>Solar Forecast</h3>\n",
    "\n",
    "Get 13 day solar forecast from your Solcast account / resource ids."
   ]
  },
  {
   "cell_type": "code",
   "execution_count": null,
   "metadata": {},
   "outputs": [],
   "source": [
    "# run forecast\n",
    "import private as my\n",
    "import openapi as f\n",
    "\n",
    "f.username = my.fox_username\n",
    "f.password = my.fox_password\n",
    "f.api_key = my.fox_api_key\n",
    "f.solcast_api_key = my.solcast_api_key"
   ]
  },
  {
   "cell_type": "code",
   "execution_count": null,
   "metadata": {},
   "outputs": [],
   "source": [
    "fsolcast = f.Solcast(estimated=1, reload=0, shading=f.charge_config.get('shading'))\n",
    "print(fsolcast)\n",
    "fsolcast.plot_daily()\n",
    "#fsolcast.plot_pt30()\n",
    "fsolcast.compare(fsolcast.yesterday)"
   ]
  },
  {
   "cell_type": "code",
   "execution_count": null,
   "metadata": {},
   "outputs": [],
   "source": [
    "f.solar_array('East', lat=51.5477, lon=-1.7354, dec=30, az=-100, kwp=3.2, inv=3.6)\n",
    "f.solar_array('West', lat=51.5477, lon=-1.7354, dec=30, az=80, kwp=3.2, inv=3.6)\n",
    "fsolar = f.Solar(shading=f.charge_config.get('shading'))\n",
    "print(fsolar)\n",
    "#fsolar.plot_hourly()\n",
    "fsolar.compare()"
   ]
  },
  {
   "cell_type": "code",
   "execution_count": null,
   "metadata": {},
   "outputs": [],
   "source": []
  }
 ],
 "metadata": {
  "kernelspec": {
   "display_name": "Python 3 (ipykernel)",
   "language": "python",
   "name": "python3"
  },
  "language_info": {
   "codemirror_mode": {
    "name": "ipython",
    "version": 3
   },
   "file_extension": ".py",
   "mimetype": "text/x-python",
   "name": "python",
   "nbconvert_exporter": "python",
   "pygments_lexer": "ipython3",
   "version": "3.11.2"
  }
 },
 "nbformat": 4,
 "nbformat_minor": 4
}
