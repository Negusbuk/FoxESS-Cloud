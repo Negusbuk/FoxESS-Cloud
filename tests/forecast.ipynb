{
 "cells": [
  {
   "cell_type": "markdown",
   "metadata": {},
   "source": [
    "<h3>Solar Forecast</h3>\n",
    "\n",
    "Get 13 day solar forecast from your Solcast account / resource ids."
   ]
  },
  {
   "cell_type": "code",
   "execution_count": null,
   "metadata": {},
   "outputs": [],
   "source": [
    "# run forecast\n",
    "import private as my\n",
    "import foxess as f\n",
    "\n",
    "f.solcast_api_key = my.solcast_api_key"
   ]
  },
  {
   "cell_type": "code",
   "execution_count": null,
   "metadata": {},
   "outputs": [],
   "source": [
    "fsolcast = f.Solcast(estimated=1)\n",
    "print(fsolcast)\n",
    "fsolcast.plot_daily()\n",
    "fsolcast.plot_hourly()"
   ]
  },
  {
   "cell_type": "code",
   "execution_count": null,
   "metadata": {},
   "outputs": [],
   "source": [
    "f.solar_array('East', lat=51.5477, lon=-1.7354, dec=30, az=260, kwp=3.2, inv=3.6)\n",
    "f.solar_array('West', lat=51.5477, lon=-1.7354, dec=30, az=80, kwp=3.2, inv=3.6)\n",
    "f.debug_setting=2\n",
    "fsolar = f.Solar()\n",
    "print(fsolar)\n",
    "fsolar.plot_hourly()"
   ]
  },
  {
   "cell_type": "code",
   "execution_count": null,
   "metadata": {},
   "outputs": [],
   "source": []
  },
  {
   "cell_type": "code",
   "execution_count": null,
   "metadata": {},
   "outputs": [],
   "source": []
  }
 ],
 "metadata": {
  "kernelspec": {
   "display_name": "Python 3 (ipykernel)",
   "language": "python",
   "name": "python3"
  },
  "language_info": {
   "codemirror_mode": {
    "name": "ipython",
    "version": 3
   },
   "file_extension": ".py",
   "mimetype": "text/x-python",
   "name": "python",
   "nbconvert_exporter": "python",
   "pygments_lexer": "ipython3",
   "version": "3.11.2"
  }
 },
 "nbformat": 4,
 "nbformat_minor": 4
}
