{
 "cells": [
  {
   "cell_type": "code",
   "execution_count": null,
   "id": "9d7f14f2-9b43-4035-a32c-7ed62cddf207",
   "metadata": {},
   "outputs": [],
   "source": [
    "# Run this cell first to initialise your notebook\n",
    "\n",
    "!pip install foxesscloud --root-user-action=ignore --quiet --upgrade\n",
    "import openapi as f\n",
    "import private as my\n",
    "\n",
    "# add your Fox ESS Open API key and inverter info here\n",
    "f.api_key = my.fox_api_key\n",
    "\n",
    "# set to 1 when residual returns battery energy, 2 when residual returns battery capacity\n",
    "f.residual_handling = 2"
   ]
  },
  {
   "cell_type": "code",
   "execution_count": null,
   "id": "a4b06ada-0181-4c66-bc73-c0f7cc2f0733",
   "metadata": {},
   "outputs": [],
   "source": [
    "# list of dates to use. today=0 will get yesterdays complete data, today=1 will get todays partial data, or enter a specific date in 'YYYY-MM-DD' format\n",
    "d = f.date_list(today=0)\n",
    "\n",
    "# get the data from Fox Cloud\n",
    "result = f.get_history('day', d=\"2024-09-16\", v=['pv1Power', 'pv2Power'], plot=1)\n",
    "\n",
    "# print the results\n",
    "for r in result:\n",
    "  print(f\"{r['date']} / {r['name'].replace('Power', '')}: Peak output was {r['max']:.2f} kW at {r['max_time']}. Total energy generated was {r['kwh']:.1f} kWh\")"
   ]
  },
  {
   "cell_type": "code",
   "execution_count": null,
   "id": "5717a167-60f3-4882-996d-bc52c6bec91e",
   "metadata": {},
   "outputs": [],
   "source": []
  }
 ],
 "metadata": {
  "kernelspec": {
   "display_name": "Python 3 (ipykernel)",
   "language": "python",
   "name": "python3"
  },
  "language_info": {
   "codemirror_mode": {
    "name": "ipython",
    "version": 3
   },
   "file_extension": ".py",
   "mimetype": "text/x-python",
   "name": "python",
   "nbconvert_exporter": "python",
   "pygments_lexer": "ipython3",
   "version": "3.11.2"
  }
 },
 "nbformat": 4,
 "nbformat_minor": 5
}
